{
  "nbformat_minor": 0,
  "nbformat": 4,
  "cells": [
    {
      "source": [
        "\n",
        "# Método importando .CSV\n",
        "\n",
        "# Comando para convertir PDF\n",
        "$ dot -T pdf arbol.dot -o arbol.pdf"
      ],
      "cell_type": "markdown",
      "metadata": {}
    },
    {
      "cell_type": "code",
      "execution_count": 10,
      "metadata": {},
      "outputs": [],
      "source": [
        "from id3 import Id3Estimator, export_graphviz, export_text\n",
        "import numpy as np\n",
        "import pandas as pd\n",
        "from sklearn import preprocessing\n",
        "from sklearn.preprocessing import OneHotEncoder, LabelEncoder\n",
        "from collections import defaultdict "
      ]
    },
    {
      "cell_type": "code",
      "execution_count": 11,
      "metadata": {},
      "outputs": [
        {
          "output_type": "stream",
          "name": "stdout",
          "text": [
            "(23, 8)\n"
          ]
        },
        {
          "output_type": "execute_result",
          "data": {
            "text/plain": [
              "                              Nombre                             Carrera/s  \\\n",
              "0          LUIS FERNANDO MENDEZ CRUZ                           Mecatrónica   \n",
              "1                 MARIO GALVEZ LOPEZ                           Mecatrónica   \n",
              "2          ZARA MARIA UBALDO GALICIA                        Mat. Aplicadas   \n",
              "3         BERNARDO ALTAMIRANO GARCIA                   Ing. en Computación   \n",
              "4  FRANCISCO JAVIER ARAMBURU ALVAREZ  Ing, en Computación y Mat. Aplicadas   \n",
              "\n",
              "  Ing. En Compu? Semestre Genero Lentes Nombre.1 Proyecto 2  \n",
              "0             No       10      M     No        2      Damas  \n",
              "1             No       10      M     No        1      Damas  \n",
              "2             No       10      F     Si        2      Damas  \n",
              "3             Si        9      M     No        1      Damas  \n",
              "4             Si        9      M     Si        2      Damas  "
            ],
            "text/html": "<div>\n<style scoped>\n    .dataframe tbody tr th:only-of-type {\n        vertical-align: middle;\n    }\n\n    .dataframe tbody tr th {\n        vertical-align: top;\n    }\n\n    .dataframe thead th {\n        text-align: right;\n    }\n</style>\n<table border=\"1\" class=\"dataframe\">\n  <thead>\n    <tr style=\"text-align: right;\">\n      <th></th>\n      <th>Nombre</th>\n      <th>Carrera/s</th>\n      <th>Ing. En Compu?</th>\n      <th>Semestre</th>\n      <th>Genero</th>\n      <th>Lentes</th>\n      <th>Nombre.1</th>\n      <th>Proyecto 2</th>\n    </tr>\n  </thead>\n  <tbody>\n    <tr>\n      <th>0</th>\n      <td>LUIS FERNANDO MENDEZ CRUZ</td>\n      <td>Mecatrónica</td>\n      <td>No</td>\n      <td>10</td>\n      <td>M</td>\n      <td>No</td>\n      <td>2</td>\n      <td>Damas</td>\n    </tr>\n    <tr>\n      <th>1</th>\n      <td>MARIO GALVEZ LOPEZ</td>\n      <td>Mecatrónica</td>\n      <td>No</td>\n      <td>10</td>\n      <td>M</td>\n      <td>No</td>\n      <td>1</td>\n      <td>Damas</td>\n    </tr>\n    <tr>\n      <th>2</th>\n      <td>ZARA MARIA UBALDO GALICIA</td>\n      <td>Mat. Aplicadas</td>\n      <td>No</td>\n      <td>10</td>\n      <td>F</td>\n      <td>Si</td>\n      <td>2</td>\n      <td>Damas</td>\n    </tr>\n    <tr>\n      <th>3</th>\n      <td>BERNARDO ALTAMIRANO GARCIA</td>\n      <td>Ing. en Computación</td>\n      <td>Si</td>\n      <td>9</td>\n      <td>M</td>\n      <td>No</td>\n      <td>1</td>\n      <td>Damas</td>\n    </tr>\n    <tr>\n      <th>4</th>\n      <td>FRANCISCO JAVIER ARAMBURU ALVAREZ</td>\n      <td>Ing, en Computación y Mat. Aplicadas</td>\n      <td>Si</td>\n      <td>9</td>\n      <td>M</td>\n      <td>Si</td>\n      <td>2</td>\n      <td>Damas</td>\n    </tr>\n  </tbody>\n</table>\n</div>"
          },
          "metadata": {},
          "execution_count": 11
        }
      ],
      "source": [
        "# create a dataframe\n",
        "data_df = pd.read_csv('alumnos.csv', dtype = 'str')\n",
        "print(data_df.shape)\n",
        "data_df.head()"
      ]
    },
    {
      "cell_type": "code",
      "execution_count": 4,
      "metadata": {},
      "outputs": [
        {
          "output_type": "stream",
          "name": "stdout",
          "text": [
            "  Ing. En Compu? Semestre Genero Lentes Nombre.1 Proyecto 2\n0             No       10      M     No        2      Damas\n1             No       10      M     No        1      Damas\n2             No       10      F     Si        2      Damas\n0    LUIS FERNANDO MENDEZ CRUZ\n1           MARIO GALVEZ LOPEZ\n2    ZARA MARIA UBALDO GALICIA\nName: Nombre, dtype: object\n"
          ]
        }
      ],
      "source": [
        "x = data_df.drop(['Nombre','Carrera/s'], axis=1)\n",
        "print(x.head(3))\n",
        "y = data_df['Nombre']\n",
        "print(y.head(3))"
      ]
    },
    {
      "cell_type": "code",
      "execution_count": 12,
      "metadata": {},
      "outputs": [
        {
          "output_type": "stream",
          "name": "stdout",
          "text": [
            "['No', 'Si', '10', '9', '8', '7', '6', '5', '4', 'M', 'F', 'No', 'Si', '2', '1', 'Damas', 'Ajedrez', 'Conecta 4']\n"
          ]
        }
      ],
      "source": [
        "values = []\n",
        "for col in x:\n",
        "    for val in x[col].unique():\n",
        "        values.append(val)\n",
        "print(values)"
      ]
    },
    {
      "cell_type": "code",
      "execution_count": 7,
      "metadata": {},
      "outputs": [
        {
          "output_type": "execute_result",
          "data": {
            "text/plain": [
              "  Ing. En Compu? Semestre Genero Lentes Nombre.1 Proyecto 2\n",
              "0             No       10      M     No        2      Damas\n",
              "1             No       10      M     No        1      Damas\n",
              "2             No       10      F     Si        2      Damas"
            ],
            "text/html": "<div>\n<style scoped>\n    .dataframe tbody tr th:only-of-type {\n        vertical-align: middle;\n    }\n\n    .dataframe tbody tr th {\n        vertical-align: top;\n    }\n\n    .dataframe thead th {\n        text-align: right;\n    }\n</style>\n<table border=\"1\" class=\"dataframe\">\n  <thead>\n    <tr style=\"text-align: right;\">\n      <th></th>\n      <th>Ing. En Compu?</th>\n      <th>Semestre</th>\n      <th>Genero</th>\n      <th>Lentes</th>\n      <th>Nombre.1</th>\n      <th>Proyecto 2</th>\n    </tr>\n  </thead>\n  <tbody>\n    <tr>\n      <th>0</th>\n      <td>No</td>\n      <td>10</td>\n      <td>M</td>\n      <td>No</td>\n      <td>2</td>\n      <td>Damas</td>\n    </tr>\n    <tr>\n      <th>1</th>\n      <td>No</td>\n      <td>10</td>\n      <td>M</td>\n      <td>No</td>\n      <td>1</td>\n      <td>Damas</td>\n    </tr>\n    <tr>\n      <th>2</th>\n      <td>No</td>\n      <td>10</td>\n      <td>F</td>\n      <td>Si</td>\n      <td>2</td>\n      <td>Damas</td>\n    </tr>\n  </tbody>\n</table>\n</div>"
          },
          "metadata": {},
          "execution_count": 7
        }
      ],
      "source": [
        "x.head(3)\n"
      ]
    },
    {
      "cell_type": "code",
      "execution_count": 13,
      "metadata": {},
      "outputs": [
        {
          "output_type": "stream",
          "name": "stdout",
          "text": [
            "  Ing. En Compu? Semestre Genero Lentes Nombre.1 Proyecto 2\n0             No       10      M     No        2      Damas\n1             No       10      M     No        1      Damas\n2             No       10      F     Si        2      Damas\n3             Si        9      M     No        1      Damas\n4             Si        9      M     Si        2      Damas\n"
          ]
        },
        {
          "output_type": "execute_result",
          "data": {
            "text/plain": [
              "    Ing. En Compu?  Semestre  Genero  Lentes  Nombre.1  Proyecto 2\n",
              "0                0         0       1       0         1           2\n",
              "1                0         0       1       0         0           2\n",
              "2                0         0       0       1         1           2\n",
              "3                1         6       1       0         0           2\n",
              "4                1         6       1       1         1           2\n",
              "5                0         5       1       1         1           0\n",
              "6                0         5       1       0         1           2\n",
              "7                1         5       0       0         0           2\n",
              "8                0         5       1       1         0           2\n",
              "9                0         5       1       0         0           2\n",
              "10               0         5       1       0         0           0\n",
              "11               1         4       1       1         0           1\n",
              "12               1         3       0       1         0           1\n",
              "13               0         3       1       0         0           2\n",
              "14               1         3       1       0         1           1\n",
              "15               1         3       1       1         0           1\n",
              "16               1         3       1       1         1           1\n",
              "17               0         3       1       1         1           1\n",
              "18               1         3       1       0         1           1\n",
              "19               1         3       0       1         0           1\n",
              "20               0         2       1       0         1           2\n",
              "21               1         2       1       1         0           2\n",
              "22               0         1       1       0         1           2"
            ],
            "text/html": "<div>\n<style scoped>\n    .dataframe tbody tr th:only-of-type {\n        vertical-align: middle;\n    }\n\n    .dataframe tbody tr th {\n        vertical-align: top;\n    }\n\n    .dataframe thead th {\n        text-align: right;\n    }\n</style>\n<table border=\"1\" class=\"dataframe\">\n  <thead>\n    <tr style=\"text-align: right;\">\n      <th></th>\n      <th>Ing. En Compu?</th>\n      <th>Semestre</th>\n      <th>Genero</th>\n      <th>Lentes</th>\n      <th>Nombre.1</th>\n      <th>Proyecto 2</th>\n    </tr>\n  </thead>\n  <tbody>\n    <tr>\n      <th>0</th>\n      <td>0</td>\n      <td>0</td>\n      <td>1</td>\n      <td>0</td>\n      <td>1</td>\n      <td>2</td>\n    </tr>\n    <tr>\n      <th>1</th>\n      <td>0</td>\n      <td>0</td>\n      <td>1</td>\n      <td>0</td>\n      <td>0</td>\n      <td>2</td>\n    </tr>\n    <tr>\n      <th>2</th>\n      <td>0</td>\n      <td>0</td>\n      <td>0</td>\n      <td>1</td>\n      <td>1</td>\n      <td>2</td>\n    </tr>\n    <tr>\n      <th>3</th>\n      <td>1</td>\n      <td>6</td>\n      <td>1</td>\n      <td>0</td>\n      <td>0</td>\n      <td>2</td>\n    </tr>\n    <tr>\n      <th>4</th>\n      <td>1</td>\n      <td>6</td>\n      <td>1</td>\n      <td>1</td>\n      <td>1</td>\n      <td>2</td>\n    </tr>\n    <tr>\n      <th>5</th>\n      <td>0</td>\n      <td>5</td>\n      <td>1</td>\n      <td>1</td>\n      <td>1</td>\n      <td>0</td>\n    </tr>\n    <tr>\n      <th>6</th>\n      <td>0</td>\n      <td>5</td>\n      <td>1</td>\n      <td>0</td>\n      <td>1</td>\n      <td>2</td>\n    </tr>\n    <tr>\n      <th>7</th>\n      <td>1</td>\n      <td>5</td>\n      <td>0</td>\n      <td>0</td>\n      <td>0</td>\n      <td>2</td>\n    </tr>\n    <tr>\n      <th>8</th>\n      <td>0</td>\n      <td>5</td>\n      <td>1</td>\n      <td>1</td>\n      <td>0</td>\n      <td>2</td>\n    </tr>\n    <tr>\n      <th>9</th>\n      <td>0</td>\n      <td>5</td>\n      <td>1</td>\n      <td>0</td>\n      <td>0</td>\n      <td>2</td>\n    </tr>\n    <tr>\n      <th>10</th>\n      <td>0</td>\n      <td>5</td>\n      <td>1</td>\n      <td>0</td>\n      <td>0</td>\n      <td>0</td>\n    </tr>\n    <tr>\n      <th>11</th>\n      <td>1</td>\n      <td>4</td>\n      <td>1</td>\n      <td>1</td>\n      <td>0</td>\n      <td>1</td>\n    </tr>\n    <tr>\n      <th>12</th>\n      <td>1</td>\n      <td>3</td>\n      <td>0</td>\n      <td>1</td>\n      <td>0</td>\n      <td>1</td>\n    </tr>\n    <tr>\n      <th>13</th>\n      <td>0</td>\n      <td>3</td>\n      <td>1</td>\n      <td>0</td>\n      <td>0</td>\n      <td>2</td>\n    </tr>\n    <tr>\n      <th>14</th>\n      <td>1</td>\n      <td>3</td>\n      <td>1</td>\n      <td>0</td>\n      <td>1</td>\n      <td>1</td>\n    </tr>\n    <tr>\n      <th>15</th>\n      <td>1</td>\n      <td>3</td>\n      <td>1</td>\n      <td>1</td>\n      <td>0</td>\n      <td>1</td>\n    </tr>\n    <tr>\n      <th>16</th>\n      <td>1</td>\n      <td>3</td>\n      <td>1</td>\n      <td>1</td>\n      <td>1</td>\n      <td>1</td>\n    </tr>\n    <tr>\n      <th>17</th>\n      <td>0</td>\n      <td>3</td>\n      <td>1</td>\n      <td>1</td>\n      <td>1</td>\n      <td>1</td>\n    </tr>\n    <tr>\n      <th>18</th>\n      <td>1</td>\n      <td>3</td>\n      <td>1</td>\n      <td>0</td>\n      <td>1</td>\n      <td>1</td>\n    </tr>\n    <tr>\n      <th>19</th>\n      <td>1</td>\n      <td>3</td>\n      <td>0</td>\n      <td>1</td>\n      <td>0</td>\n      <td>1</td>\n    </tr>\n    <tr>\n      <th>20</th>\n      <td>0</td>\n      <td>2</td>\n      <td>1</td>\n      <td>0</td>\n      <td>1</td>\n      <td>2</td>\n    </tr>\n    <tr>\n      <th>21</th>\n      <td>1</td>\n      <td>2</td>\n      <td>1</td>\n      <td>1</td>\n      <td>0</td>\n      <td>2</td>\n    </tr>\n    <tr>\n      <th>22</th>\n      <td>0</td>\n      <td>1</td>\n      <td>1</td>\n      <td>0</td>\n      <td>1</td>\n      <td>2</td>\n    </tr>\n  </tbody>\n</table>\n</div>"
          },
          "metadata": {},
          "execution_count": 13
        }
      ],
      "source": [
        "encoded_x = x.apply(LabelEncoder().fit_transform)\n",
        "print(x.head())\n",
        "encoded_x"
      ]
    },
    {
      "cell_type": "code",
      "execution_count": 37,
      "metadata": {},
      "outputs": [
        {
          "output_type": "stream",
          "name": "stdout",
          "text": [
            "\nCarrera/s <=5.50\n|   Semestre <=4.00\n|   |   Lentes <=0.50\n|   |   |   Proyecto 2 <=1.50: ANDRES MIGUEL QUEVEDO (1) \n|   |   |   Proyecto 2 >1.50: GUILLERMO JORGE NARANJO MUEDANO (1/1) \n|   |   Lentes >0.50\n|   |   |   Genero <=0.50\n|   |   |   |   Nombres <=0.50: SOFIA ALBERT TASSIER (1) \n|   |   |   |   Nombres >0.50: ZARA MARIA UBALDO GALICIA (1) \n|   |   |   Genero >0.50: MARIANO FRANCO GOMEZ (1) \n|   Semestre >4.00\n|   |   Nombres <=0.50\n|   |   |   Genero <=0.50: ANDREA DE ANDA KURI (1) \n|   |   |   Genero >0.50: BERNARDO ALTAMIRANO GARCIA (1) \n|   |   Nombres >0.50\n|   |   |   Lentes <=0.50\n|   |   |   |   Proyecto 2 <=1.50: CARLOS ALBERTO DELGADO ELIZONDO (1) \n|   |   |   |   Proyecto 2 >1.50: SILVESTRE LEONARDO GONZALEZ ABREU (1) \n|   |   |   Lentes >0.50: LUIS ANDRES GOMEZ MARTINEZ (1) \nCarrera/s >5.50\n|   Lentes <=0.50\n|   |   Semestre <=1.50\n|   |   |   Nombres <=0.50: MARIO GALVEZ LOPEZ (1) \n|   |   |   Nombres >0.50: LUIS FERNANDO MENDEZ CRUZ (1) \n|   |   Semestre >1.50\n|   |   |   Proyecto 2 <=1.50\n|   |   |   |   Nombres <=0.50: MAURICIO MARTINEZ RIEDE (1) \n|   |   |   |   Nombres >0.50: JORGE EDGAR RODRIGUEZ ORTIZ LOYOLA (1) \n|   |   |   Proyecto 2 >1.50: ANTONINO GARCIA OCEJO (1/1) \n|   Lentes >0.50\n|   |   Semestre <=3.50\n|   |   |   Genero <=0.50: NATALIA HERNANDEZ CORNEJO (1) \n|   |   |   Genero >0.50\n|   |   |   |   Proyecto 2 <=1.50: DIEGO HERNANDEZ DELGADO (1) \n|   |   |   |   Proyecto 2 >1.50: ALEXANDER PERELMAN ARCQ (1) \n|   |   Semestre >3.50\n|   |   |   Nombres <=0.50: IAN ZAIDENWEBER DORENBAUM (1) \n|   |   |   Nombres >0.50\n|   |   |   |   Proyecto 2 <=1.50: JOSE FRANCISCO GARDUÑO SUCHIL (1) \n|   |   |   |   Proyecto 2 >1.50: FRANCISCO JAVIER ARAMBURU ALVAREZ (1) \n\n"
          ]
        },
        {
          "output_type": "execute_result",
          "data": {
            "text/plain": [
              "<_io.TextIOWrapper name='arbol.dot' mode='w' encoding='utf8'>"
            ]
          },
          "metadata": {},
          "execution_count": 37
        }
      ],
      "source": [
        "estimador = Id3Estimator()\n",
        "estimador.fit(encoded_x, y, check_input=True)\n",
        "\n",
        "print(export_text(estimador.tree_, list(encoded_x.keys())))\n",
        "export_graphviz(estimador.tree_, \"arbol.dot\", list(encoded_x.keys()))"
      ]
    },
    {
      "source": [
        "\n",
        "# Método Manual"
      ],
      "cell_type": "markdown",
      "metadata": {}
    },
    {
      "cell_type": "code",
      "execution_count": 16,
      "metadata": {},
      "outputs": [
        {
          "output_type": "error",
          "ename": "TypeError",
          "evalue": "list indices must be integers or slices, not tuple",
          "traceback": [
            "\u001b[0;31m---------------------------------------------------------------------------\u001b[0m",
            "\u001b[0;31mTypeError\u001b[0m                                 Traceback (most recent call last)",
            "\u001b[0;32m<ipython-input-16-a8c5727fdb20>\u001b[0m in \u001b[0;36m<module>\u001b[0;34m\u001b[0m\n\u001b[1;32m      3\u001b[0m arr_x = np.array([\n\u001b[1;32m      4\u001b[0m     \u001b[0;34m[\u001b[0m\u001b[0;34m\"Mecatrónica\"\u001b[0m\u001b[0;34m,\u001b[0m\u001b[0;34m\"No\"\u001b[0m\u001b[0;34m,\u001b[0m\u001b[0;34m\"10\"\u001b[0m\u001b[0;34m,\u001b[0m\u001b[0;34m\"M\"\u001b[0m\u001b[0;34m,\u001b[0m\u001b[0;34m\"No\"\u001b[0m\u001b[0;34m,\u001b[0m\u001b[0;34m\"2\"\u001b[0m\u001b[0;34m,\u001b[0m\u001b[0;34m\"Damas\"\u001b[0m\u001b[0;34m]\u001b[0m\u001b[0;34m\u001b[0m\u001b[0;34m\u001b[0m\u001b[0m\n\u001b[0;32m----> 5\u001b[0;31m     \u001b[0;34m[\u001b[0m\u001b[0;34m\"Mecatrónica\"\u001b[0m\u001b[0;34m,\u001b[0m\u001b[0;34m\"No\"\u001b[0m\u001b[0;34m,\u001b[0m\u001b[0;34m\"10\"\u001b[0m\u001b[0;34m,\u001b[0m\u001b[0;34m\"M\"\u001b[0m\u001b[0;34m,\u001b[0m\u001b[0;34m\"No\"\u001b[0m\u001b[0;34m,\u001b[0m\u001b[0;34m\"1\"\u001b[0m\u001b[0;34m,\u001b[0m\u001b[0;34m\"Damas\"\u001b[0m\u001b[0;34m]\u001b[0m\u001b[0;34m\u001b[0m\u001b[0;34m\u001b[0m\u001b[0m\n\u001b[0m\u001b[1;32m      6\u001b[0m     \u001b[0;34m[\u001b[0m\u001b[0;34m\"Mat. Aplicadas\"\u001b[0m\u001b[0;34m,\u001b[0m\u001b[0;34m\"No\"\u001b[0m\u001b[0;34m,\u001b[0m\u001b[0;34m\"10\"\u001b[0m\u001b[0;34m,\u001b[0m\u001b[0;34m\"F\"\u001b[0m\u001b[0;34m,\u001b[0m\u001b[0;34m\"Si\"\u001b[0m\u001b[0;34m,\u001b[0m\u001b[0;34m\"2\"\u001b[0m\u001b[0;34m,\u001b[0m\u001b[0;34m\"Damas\"\u001b[0m\u001b[0;34m]\u001b[0m\u001b[0;34m\u001b[0m\u001b[0;34m\u001b[0m\u001b[0m\n\u001b[1;32m      7\u001b[0m     \u001b[0;34m[\u001b[0m\u001b[0;34m\"Ing. en Computación\"\u001b[0m\u001b[0;34m,\u001b[0m\u001b[0;34m\"Si\"\u001b[0m\u001b[0;34m,\u001b[0m\u001b[0;34m\"9\"\u001b[0m\u001b[0;34m,\u001b[0m\u001b[0;34m\"M\"\u001b[0m\u001b[0;34m,\u001b[0m\u001b[0;34m\"No\"\u001b[0m\u001b[0;34m,\u001b[0m\u001b[0;34m\"1\"\u001b[0m\u001b[0;34m,\u001b[0m\u001b[0;34m\"Damas\"\u001b[0m\u001b[0;34m]\u001b[0m\u001b[0;34m\u001b[0m\u001b[0;34m\u001b[0m\u001b[0m\n",
            "\u001b[0;31mTypeError\u001b[0m: list indices must be integers or slices, not tuple"
          ]
        }
      ],
      "source": [
        "categorias = [\"Ing. en Compu?\",\"Semestre\",\"Genero\",\"Lentes\",\"Nombres\",\"Proyecto 2\"]\n",
        "\n",
        "arr_x = np.array([\n",
        "    [\"Mecatrónica\",\"No\",\"10\",\"M\",\"No\",\"2\",\"Damas\"]\n",
        "    [\"Mecatrónica\",\"No\",\"10\",\"M\",\"No\",\"1\",\"Damas\"]\n",
        "    [\"Mat. Aplicadas\",\"No\",\"10\",\"F\",\"Si\",\"2\",\"Damas\"]\n",
        "    [\"Ing. en Computación\",\"Si\",\"9\",\"M\",\"No\",\"1\",\"Damas\"]\n",
        "    [\"Ing, en Computación y Mat. Aplicadas\",\"Si\",\"9\",\"M\",\"Si\",\"2\",\"Damas\"]\n",
        "    [\"Mecatrónica\",\"No\",\"8\",\"M\",\"Si\",\"2\",\"Ajedrez\"]\n",
        "    [\"Ing. Industrial y Mecatrónica\",\"No\",\"8\",\"M\",\"No\",\"2\",\"Damas\"]\n",
        "    [\"Ing. en Computación e Ing. Industrial\",\"Si\",\"8\",\"F\",\"No\",\"1\",\"Damas\"]\n",
        "    [\"Ing. en Negocios\",\"No\",\"8\",\"M\",\"Si\",\"1\",\"Damas\"]\n",
        "    [\"Ing. en Negocios\",\"No\",\"8\",\"M\",\"No\",\"1\",\"Damas\"]\n",
        "    [\"Mecatrónica\",\"No\",\"8\",\"M\",\"No\",\"1\",\"Ajedrez\"]\n",
        "    [\"Ing, en Computación y Mecatrónica\",\"Si\",\"7\",\"M\",\"Si\",\"1\",\"Conecta 4\"]\n",
        "    [\"Ing, en Computación y Mat. Aplicadas\",\"Si\",\"6\",\"F\",\"Si\",\"1\",\"Conecta 4\"]\n",
        "    [\"Ing. en Negocios\",\"No\",\"6\",\"M\",\"No\",\"1\",\"Damas\"]\n",
        "    [\"Ing. en Computación y Mecatrónica\",\"Si\",\"6\",\"M\",\"No\",\"2\",\"Conecta 4\"]\n",
        "    [\"Ing, en Computación y Mat. Aplicadas\",\"Si\",\"6\",\"M\",\"Si\",\"1\",\"Conecta 4\"]\n",
        "    [\"Ing, en Computación y Mat. Aplicadas\",\"Si\",\"6\",\"M\",\"Si\",\"2\",\"Conecta 4\"]\n",
        "    [\"Mat. Aplicadas\",\"No\",\"6\",\"M\",\"Si\",\"2\",\"Conecta 4\"]\n",
        "    [\"Ing. en Computación\",\"Si\",\"6\",\"M\",\"No\",\"2\",\"Conecta 4\"]\n",
        "    [\"Ing. en Computación y Mat. Aplicadas\",\"Si\",\"6\",\"F\",\"Si\",\"1\",\"Conecta 4\"]\n",
        "    [\"Mat. Aplicadas\",\"No\",\"5\",\"M\",\"No\",\"2\",\"Damas\"]\n",
        "    [\"Ing. en Computación y Economía\",\"Si\",\"5\",\"M\",\"Si\",\"1\",\"Damas\"]\n",
        "    [\"Ciencia de Datos\",\"No\",\"4\",\"M\",\"No\",\"2\",\"Damas\"]\n",
        "])\n",
        "\n",
        "arr_y = np.array([\n",
        "    \"LUIS FERNANDO MENDEZ CRUZ\",\n",
        "    \"MARIO GALVEZ LOPEZ\",\n",
        "    \"ZARA MARIA UBALDO GALICIA\",\n",
        "    \"BERNARDO ALTAMIRANO GARCIA\",\n",
        "    \"FRANCISCO JAVIER ARAMBURU ALVAREZ\",\n",
        "    \"LUIS ANDRES GOMEZ MARTINEZ\",\n",
        "    \"SILVESTRE LEONARDO GONZALEZ ABREU\",\n",
        "    \"ANDREA DE ANDA KURI\",\n",
        "    \"IAN ZAIDENWEBER DORENBAUM\",\n",
        "    \"EDUARDO PESQUEIRA ZORRILLA\",\n",
        "    \"MAURICIO MARTINEZ RIEDE\",\n",
        "    \"DIEGO HERNANDEZ DELGADO\",\n",
        "    \"SOFIA ALBERT TASSIER\",\n",
        "    \"ANTONINO GARCIA OCEJO\",\n",
        "    \"JORGE EDGAR RODRIGUEZ ORTIZ LOYOLA\",\n",
        "    \"MARIANO FRANCO GOMEZ\",\n",
        "    \"ANDRES MIGUEL QUEVEDO\",\n",
        "    \"JOSE FRANCISCO GARDUÑO SUCHIL\",\n",
        "    \"CARLOS ALBERTO DELGADO ELIZONDO\",\n",
        "    \"NATALIA HERNANDEZ CORNEJO\",\n",
        "    \"MIGUEL ANGEL QUINTERO VILLEGAS\",\n",
        "    \"ALEXANDER PERELMAN ARCQ\",\n",
        "    \"GUILLERMO JORGE NARANJO MUEDANO\"\n",
        "])\n",
        "print(arr_y.dtype)\n",
        "print(arr_x.dtype)"
      ]
    },
    {
      "cell_type": "code",
      "execution_count": 44,
      "metadata": {},
      "outputs": [
        {
          "output_type": "stream",
          "name": "stdout",
          "text": [
            "\n",
            "Carrera/s Ing. Industrial y Mecatrónica: SILVESTRE LEONARDO GONZALEZ ABREU (1) \n",
            "Carrera/s Ing. en Computación\n",
            "|   Semestre <=8.50: LUIS ANDRES GOMEZ MARTINEZ (1) \n",
            "|   Semestre >8.50\n",
            "|   |   Genero F: ZARA MARIA UBALDO GALICIA (1) \n",
            "|   |   Genero M: BERNARDO ALTAMIRANO GARCIA (1) \n",
            "Carrera/s Ing. en Computación e Ing. Industrial: ANDREA DE ANDA KURI (1) \n",
            "Carrera/s Ing. en Negocios: FRANCISCO JAVIER ARAMBURU ALVAREZ (1) \n",
            "Carrera/s Mecatrónica\n",
            "|   Nombres <=1.50: MARIO GALVEZ LOPEZ (1) \n",
            "|   Nombres >1.50: LUIS FERNANDO MENDEZ CRUZ (1) \n",
            "\n",
            "/Users/bernardoaltamirano/anaconda3/lib/python3.7/site-packages/sklearn/utils/validation.py:563: FutureWarning: Beginning in version 0.22, arrays of bytes/strings will be converted to decimal numbers if dtype='numeric'. It is recommended that you convert the array to a float dtype before using it in scikit-learn, for example by using your_array = your_array.astype(np.float64).\n",
            "  FutureWarning)\n"
          ]
        }
      ],
      "source": [
        "clf = Id3Estimator()\n",
        "clf.fit(arr_x, arr_y, check_input=True)\n",
        "\n",
        "export_graphviz(clf.tree_, \"arbol2.dot\", categorias)\n",
        "print(export_text(clf.tree_, categorias))"
      ]
    }
  ],
  "metadata": {
    "kernelspec": {
      "name": "python3",
      "display_name": "Python 3",
      "language": "python"
    },
    "language_info": {
      "mimetype": "text/x-python",
      "nbconvert_exporter": "python",
      "name": "python",
      "file_extension": ".py",
      "version": "3.7.6",
      "pygments_lexer": "ipython2",
      "codemirror_mode": {
        "version": 2,
        "name": "ipython"
      }
    }
  }
}