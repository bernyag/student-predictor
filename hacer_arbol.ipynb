{
  "nbformat_minor": 0,
  "nbformat": 4,
  "cells": [
    {
      "source": [
        "\n",
        "# Método importando .CSV\n",
        "\n",
        "# Comando para convertir PDF\n",
        "$ dot -T pdf arbol.dot -o arbol.pdf"
      ],
      "cell_type": "markdown",
      "metadata": {}
    },
    {
      "cell_type": "code",
      "execution_count": 33,
      "metadata": {},
      "outputs": [],
      "source": [
        "from id3 import Id3Estimator, export_graphviz, export_text\n",
        "import numpy as np\n",
        "import pandas as pd\n",
        "from sklearn import preprocessing\n",
        "from sklearn.preprocessing import OneHotEncoder, LabelEncoder\n",
        "from collections import defaultdict "
      ]
    },
    {
      "cell_type": "code",
      "execution_count": 34,
      "metadata": {},
      "outputs": [
        {
          "output_type": "stream",
          "name": "stdout",
          "text": [
            "(23, 7)\n"
          ]
        },
        {
          "output_type": "execute_result",
          "data": {
            "text/plain": [
              "                       Nombre            Carrera/s Semestre Genero Lentes  \\\n",
              "0   LUIS FERNANDO MENDEZ CRUZ          Mecatrónica       10      M     No   \n",
              "1          MARIO GALVEZ LOPEZ          Mecatrónica       10      M     No   \n",
              "2   ZARA MARIA UBALDO GALICIA  Ing. en Computación       10      F     Sí   \n",
              "3  BERNARDO ALTAMIRANO GARCIA  Ing. en Computación        9      M     No   \n",
              "4  LUIS ANDRES GOMEZ MARTINEZ  Ing. en Computación        8      M     Sí   \n",
              "\n",
              "  Nombres Proyecto 2  \n",
              "0       2      Damas  \n",
              "1       1      Damas  \n",
              "2       2      Damas  \n",
              "3       1      Damas  \n",
              "4       2    Ajedrez  "
            ],
            "text/html": "<div>\n<style scoped>\n    .dataframe tbody tr th:only-of-type {\n        vertical-align: middle;\n    }\n\n    .dataframe tbody tr th {\n        vertical-align: top;\n    }\n\n    .dataframe thead th {\n        text-align: right;\n    }\n</style>\n<table border=\"1\" class=\"dataframe\">\n  <thead>\n    <tr style=\"text-align: right;\">\n      <th></th>\n      <th>Nombre</th>\n      <th>Carrera/s</th>\n      <th>Semestre</th>\n      <th>Genero</th>\n      <th>Lentes</th>\n      <th>Nombres</th>\n      <th>Proyecto 2</th>\n    </tr>\n  </thead>\n  <tbody>\n    <tr>\n      <th>0</th>\n      <td>LUIS FERNANDO MENDEZ CRUZ</td>\n      <td>Mecatrónica</td>\n      <td>10</td>\n      <td>M</td>\n      <td>No</td>\n      <td>2</td>\n      <td>Damas</td>\n    </tr>\n    <tr>\n      <th>1</th>\n      <td>MARIO GALVEZ LOPEZ</td>\n      <td>Mecatrónica</td>\n      <td>10</td>\n      <td>M</td>\n      <td>No</td>\n      <td>1</td>\n      <td>Damas</td>\n    </tr>\n    <tr>\n      <th>2</th>\n      <td>ZARA MARIA UBALDO GALICIA</td>\n      <td>Ing. en Computación</td>\n      <td>10</td>\n      <td>F</td>\n      <td>Sí</td>\n      <td>2</td>\n      <td>Damas</td>\n    </tr>\n    <tr>\n      <th>3</th>\n      <td>BERNARDO ALTAMIRANO GARCIA</td>\n      <td>Ing. en Computación</td>\n      <td>9</td>\n      <td>M</td>\n      <td>No</td>\n      <td>1</td>\n      <td>Damas</td>\n    </tr>\n    <tr>\n      <th>4</th>\n      <td>LUIS ANDRES GOMEZ MARTINEZ</td>\n      <td>Ing. en Computación</td>\n      <td>8</td>\n      <td>M</td>\n      <td>Sí</td>\n      <td>2</td>\n      <td>Ajedrez</td>\n    </tr>\n  </tbody>\n</table>\n</div>"
          },
          "metadata": {},
          "execution_count": 34
        }
      ],
      "source": [
        "# create a dataframe\n",
        "data_df = pd.read_csv('alumnos.csv', dtype = 'str')\n",
        "print(data_df.shape)\n",
        "data_df.head()"
      ]
    },
    {
      "cell_type": "code",
      "execution_count": 35,
      "metadata": {},
      "outputs": [
        {
          "output_type": "stream",
          "name": "stdout",
          "text": [
            "             Carrera/s Semestre Genero Lentes Nombres Proyecto 2\n0          Mecatrónica       10      M     No       2      Damas\n1          Mecatrónica       10      M     No       1      Damas\n2  Ing. en Computación       10      F     Sí       2      Damas\n0    LUIS FERNANDO MENDEZ CRUZ\n1           MARIO GALVEZ LOPEZ\n2    ZARA MARIA UBALDO GALICIA\nName: Nombre, dtype: object\n"
          ]
        }
      ],
      "source": [
        "x = data_df.drop('Nombre', axis=1)\n",
        "print(x.head(3))\n",
        "y = data_df['Nombre']\n",
        "print(y.head(3))"
      ]
    },
    {
      "cell_type": "code",
      "execution_count": 70,
      "metadata": {},
      "outputs": [
        {
          "output_type": "stream",
          "name": "stdout",
          "text": [
            "['Mecatrónica', 'Ing. en Computación', 'Ing. Industrial y Mecatrónica', 'Ing. en Negocios', 'Ing. en Computación e Ing. Industrial*', 'Ing, en Computación y Mat. Aplicadas', 'Ing. en Computación y Mecatrónica', 'Mat. Aplicadas', 'Ing. en Computación ', 'Ing. en Computación y Mat. Aplicadas', 'Ciencia de Datos', 10, 9, 8, 7, 6, 5, 4, 'M', 'F', 'No', 'Sí', 2, 1, 'Damas', 'Ajedrez', 'Conecta 4']\n"
          ]
        }
      ],
      "source": [
        "values = []\n",
        "for col in x:\n",
        "    for val in x[col].unique():\n",
        "        values.append(val)\n",
        "print(values)"
      ]
    },
    {
      "cell_type": "code",
      "execution_count": 71,
      "metadata": {},
      "outputs": [
        {
          "output_type": "stream",
          "name": "stdout",
          "text": [
            "{'1': 1, '10': 2, '2': 3, '4': 4, '5': 5, '6': 6, '7': 7, '8': 8, '9': 9, 'Ajedrez': 10, 'Ciencia de Datos': 11, 'Conecta 4': 12, 'Damas': 13, 'F': 14, 'Ing, en Computación y Mat. Aplicadas': 15, 'Ing. Industrial y Mecatrónica': 16, 'Ing. en Computación': 17, 'Ing. en Computación ': 18, 'Ing. en Computación e Ing. Industrial*': 19, 'Ing. en Computación y Mat. Aplicadas': 20, 'Ing. en Computación y Mecatrónica': 21, 'Ing. en Negocios': 22, 'M': 23, 'Mat. Aplicadas': 24, 'Mecatrónica': 25, 'No': 26, 'Sí': 27}\n"
          ]
        }
      ],
      "source": [
        "le = LabelEncoder()\n",
        "mapped = le.fit_transform(values)\n",
        "mapping = dict(zip(le.classes_, range(1, len(le.classes_)+1)))\n",
        "print(mapping)"
      ]
    },
    {
      "cell_type": "code",
      "execution_count": 36,
      "metadata": {},
      "outputs": [
        {
          "output_type": "stream",
          "name": "stdout",
          "text": [
            "             Carrera/s Semestre Genero Lentes Nombres Proyecto 2\n0          Mecatrónica       10      M     No       2      Damas\n1          Mecatrónica       10      M     No       1      Damas\n2  Ing. en Computación       10      F     Sí       2      Damas\n3  Ing. en Computación        9      M     No       1      Damas\n4  Ing. en Computación        8      M     Sí       2    Ajedrez\n"
          ]
        },
        {
          "output_type": "execute_result",
          "data": {
            "text/plain": [
              "    Carrera/s  Semestre  Genero  Lentes  Nombres  Proyecto 2\n",
              "0          10         0       1       0        1           2\n",
              "1          10         0       1       0        0           2\n",
              "2           3         0       0       1        1           2\n",
              "3           3         6       1       0        0           2\n",
              "4           3         5       1       1        1           0\n",
              "5           2         5       1       0        1           2\n",
              "6           8         4       1       1        1           2\n",
              "7           5         5       0       0        0           2\n",
              "8           8         3       1       1        0           1\n",
              "9           8         5       1       1        0           2\n",
              "10          8         5       1       0        0           2\n",
              "11         10         3       1       0        0           0\n",
              "12          1         2       0       1        0           1\n",
              "13          8         3       1       0        0           2\n",
              "14          7         4       1       0        1           1\n",
              "15          1         3       1       1        0           1\n",
              "16          1         3       1       0        1           1\n",
              "17          9         4       1       1        1           1\n",
              "18          4         5       1       0        1           1\n",
              "19          6         3       0       1        0           1\n",
              "20          3         2       1       0        1           2\n",
              "21          9         2       1       1        0           2\n",
              "22          0         1       1       0        1           2"
            ],
            "text/html": "<div>\n<style scoped>\n    .dataframe tbody tr th:only-of-type {\n        vertical-align: middle;\n    }\n\n    .dataframe tbody tr th {\n        vertical-align: top;\n    }\n\n    .dataframe thead th {\n        text-align: right;\n    }\n</style>\n<table border=\"1\" class=\"dataframe\">\n  <thead>\n    <tr style=\"text-align: right;\">\n      <th></th>\n      <th>Carrera/s</th>\n      <th>Semestre</th>\n      <th>Genero</th>\n      <th>Lentes</th>\n      <th>Nombres</th>\n      <th>Proyecto 2</th>\n    </tr>\n  </thead>\n  <tbody>\n    <tr>\n      <th>0</th>\n      <td>10</td>\n      <td>0</td>\n      <td>1</td>\n      <td>0</td>\n      <td>1</td>\n      <td>2</td>\n    </tr>\n    <tr>\n      <th>1</th>\n      <td>10</td>\n      <td>0</td>\n      <td>1</td>\n      <td>0</td>\n      <td>0</td>\n      <td>2</td>\n    </tr>\n    <tr>\n      <th>2</th>\n      <td>3</td>\n      <td>0</td>\n      <td>0</td>\n      <td>1</td>\n      <td>1</td>\n      <td>2</td>\n    </tr>\n    <tr>\n      <th>3</th>\n      <td>3</td>\n      <td>6</td>\n      <td>1</td>\n      <td>0</td>\n      <td>0</td>\n      <td>2</td>\n    </tr>\n    <tr>\n      <th>4</th>\n      <td>3</td>\n      <td>5</td>\n      <td>1</td>\n      <td>1</td>\n      <td>1</td>\n      <td>0</td>\n    </tr>\n    <tr>\n      <th>5</th>\n      <td>2</td>\n      <td>5</td>\n      <td>1</td>\n      <td>0</td>\n      <td>1</td>\n      <td>2</td>\n    </tr>\n    <tr>\n      <th>6</th>\n      <td>8</td>\n      <td>4</td>\n      <td>1</td>\n      <td>1</td>\n      <td>1</td>\n      <td>2</td>\n    </tr>\n    <tr>\n      <th>7</th>\n      <td>5</td>\n      <td>5</td>\n      <td>0</td>\n      <td>0</td>\n      <td>0</td>\n      <td>2</td>\n    </tr>\n    <tr>\n      <th>8</th>\n      <td>8</td>\n      <td>3</td>\n      <td>1</td>\n      <td>1</td>\n      <td>0</td>\n      <td>1</td>\n    </tr>\n    <tr>\n      <th>9</th>\n      <td>8</td>\n      <td>5</td>\n      <td>1</td>\n      <td>1</td>\n      <td>0</td>\n      <td>2</td>\n    </tr>\n    <tr>\n      <th>10</th>\n      <td>8</td>\n      <td>5</td>\n      <td>1</td>\n      <td>0</td>\n      <td>0</td>\n      <td>2</td>\n    </tr>\n    <tr>\n      <th>11</th>\n      <td>10</td>\n      <td>3</td>\n      <td>1</td>\n      <td>0</td>\n      <td>0</td>\n      <td>0</td>\n    </tr>\n    <tr>\n      <th>12</th>\n      <td>1</td>\n      <td>2</td>\n      <td>0</td>\n      <td>1</td>\n      <td>0</td>\n      <td>1</td>\n    </tr>\n    <tr>\n      <th>13</th>\n      <td>8</td>\n      <td>3</td>\n      <td>1</td>\n      <td>0</td>\n      <td>0</td>\n      <td>2</td>\n    </tr>\n    <tr>\n      <th>14</th>\n      <td>7</td>\n      <td>4</td>\n      <td>1</td>\n      <td>0</td>\n      <td>1</td>\n      <td>1</td>\n    </tr>\n    <tr>\n      <th>15</th>\n      <td>1</td>\n      <td>3</td>\n      <td>1</td>\n      <td>1</td>\n      <td>0</td>\n      <td>1</td>\n    </tr>\n    <tr>\n      <th>16</th>\n      <td>1</td>\n      <td>3</td>\n      <td>1</td>\n      <td>0</td>\n      <td>1</td>\n      <td>1</td>\n    </tr>\n    <tr>\n      <th>17</th>\n      <td>9</td>\n      <td>4</td>\n      <td>1</td>\n      <td>1</td>\n      <td>1</td>\n      <td>1</td>\n    </tr>\n    <tr>\n      <th>18</th>\n      <td>4</td>\n      <td>5</td>\n      <td>1</td>\n      <td>0</td>\n      <td>1</td>\n      <td>1</td>\n    </tr>\n    <tr>\n      <th>19</th>\n      <td>6</td>\n      <td>3</td>\n      <td>0</td>\n      <td>1</td>\n      <td>0</td>\n      <td>1</td>\n    </tr>\n    <tr>\n      <th>20</th>\n      <td>3</td>\n      <td>2</td>\n      <td>1</td>\n      <td>0</td>\n      <td>1</td>\n      <td>2</td>\n    </tr>\n    <tr>\n      <th>21</th>\n      <td>9</td>\n      <td>2</td>\n      <td>1</td>\n      <td>1</td>\n      <td>0</td>\n      <td>2</td>\n    </tr>\n    <tr>\n      <th>22</th>\n      <td>0</td>\n      <td>1</td>\n      <td>1</td>\n      <td>0</td>\n      <td>1</td>\n      <td>2</td>\n    </tr>\n  </tbody>\n</table>\n</div>"
          },
          "metadata": {},
          "execution_count": 36
        }
      ],
      "source": [
        "encoded_x = x.apply(LabelEncoder().fit_transform)\n",
        "print(x.head())\n",
        "encoded_x"
      ]
    },
    {
      "cell_type": "code",
      "execution_count": 37,
      "metadata": {},
      "outputs": [
        {
          "output_type": "stream",
          "name": "stdout",
          "text": [
            "\nCarrera/s <=5.50\n|   Semestre <=4.00\n|   |   Lentes <=0.50\n|   |   |   Proyecto 2 <=1.50: ANDRES MIGUEL QUEVEDO (1) \n|   |   |   Proyecto 2 >1.50: GUILLERMO JORGE NARANJO MUEDANO (1/1) \n|   |   Lentes >0.50\n|   |   |   Genero <=0.50\n|   |   |   |   Nombres <=0.50: SOFIA ALBERT TASSIER (1) \n|   |   |   |   Nombres >0.50: ZARA MARIA UBALDO GALICIA (1) \n|   |   |   Genero >0.50: MARIANO FRANCO GOMEZ (1) \n|   Semestre >4.00\n|   |   Nombres <=0.50\n|   |   |   Genero <=0.50: ANDREA DE ANDA KURI (1) \n|   |   |   Genero >0.50: BERNARDO ALTAMIRANO GARCIA (1) \n|   |   Nombres >0.50\n|   |   |   Lentes <=0.50\n|   |   |   |   Proyecto 2 <=1.50: CARLOS ALBERTO DELGADO ELIZONDO (1) \n|   |   |   |   Proyecto 2 >1.50: SILVESTRE LEONARDO GONZALEZ ABREU (1) \n|   |   |   Lentes >0.50: LUIS ANDRES GOMEZ MARTINEZ (1) \nCarrera/s >5.50\n|   Lentes <=0.50\n|   |   Semestre <=1.50\n|   |   |   Nombres <=0.50: MARIO GALVEZ LOPEZ (1) \n|   |   |   Nombres >0.50: LUIS FERNANDO MENDEZ CRUZ (1) \n|   |   Semestre >1.50\n|   |   |   Proyecto 2 <=1.50\n|   |   |   |   Nombres <=0.50: MAURICIO MARTINEZ RIEDE (1) \n|   |   |   |   Nombres >0.50: JORGE EDGAR RODRIGUEZ ORTIZ LOYOLA (1) \n|   |   |   Proyecto 2 >1.50: ANTONINO GARCIA OCEJO (1/1) \n|   Lentes >0.50\n|   |   Semestre <=3.50\n|   |   |   Genero <=0.50: NATALIA HERNANDEZ CORNEJO (1) \n|   |   |   Genero >0.50\n|   |   |   |   Proyecto 2 <=1.50: DIEGO HERNANDEZ DELGADO (1) \n|   |   |   |   Proyecto 2 >1.50: ALEXANDER PERELMAN ARCQ (1) \n|   |   Semestre >3.50\n|   |   |   Nombres <=0.50: IAN ZAIDENWEBER DORENBAUM (1) \n|   |   |   Nombres >0.50\n|   |   |   |   Proyecto 2 <=1.50: JOSE FRANCISCO GARDUÑO SUCHIL (1) \n|   |   |   |   Proyecto 2 >1.50: FRANCISCO JAVIER ARAMBURU ALVAREZ (1) \n\n"
          ]
        },
        {
          "output_type": "execute_result",
          "data": {
            "text/plain": [
              "<_io.TextIOWrapper name='arbol.dot' mode='w' encoding='utf8'>"
            ]
          },
          "metadata": {},
          "execution_count": 37
        }
      ],
      "source": [
        "estimador = Id3Estimator()\n",
        "estimador.fit(encoded_x, y, check_input=True)\n",
        "\n",
        "print(export_text(estimador.tree_, list(encoded_x.keys())))\n",
        "export_graphviz(estimador.tree_, \"arbol.dot\", list(encoded_x.keys()))"
      ]
    },
    {
      "source": [
        "\n",
        "# Método Manual"
      ],
      "cell_type": "markdown",
      "metadata": {}
    },
    {
      "cell_type": "code",
      "execution_count": 42,
      "metadata": {},
      "outputs": [
        {
          "output_type": "stream",
          "name": "stdout",
          "text": [
            "<U33\n<U37\n"
          ]
        }
      ],
      "source": [
        "categorias = [\"Carrera/s\",\"Semestre\",\"Genero\",\"Lentes\",\"Nombres\",\"Proyecto 2\"]\n",
        "\n",
        "arr_x = np.array([\n",
        "    [\"Mecatrónica\",\"10\",\"M\",\"No\",2,\"Damas\"],\n",
        "    [\"Mecatrónica\",\"10\",\"M\",\"No\",1,\"Damas\"],\n",
        "    [\"Ing. en Computación\",\"10\",\"F\",\"Sí\",2,\"Damas\"],\n",
        "    [\"Ing. en Computación\",\"9\",\"M\",\"No\",1,\"Damas\"],\n",
        "    [\"Ing. en Computación\",\"8\",\"M\",\"Sí\",2,\"Ajedrez\"],\n",
        "    [\"Ing. Industrial y Mecatrónica\",\"8\",\"M\",\"No\",2,\"Damas\"],\n",
        "    [\"Ing. en Negocios\",\"7\",\"M\",\"Sí\",2,\"Damas\"],\n",
        "    [\"Ing. en Computación e Ing. Industrial\",\"8\",\"F\",\"No\",1,\"Damas\"]\n",
        "])\n",
        "arr_y = np.array([\n",
        "    \"LUIS FERNANDO MENDEZ CRUZ\",\n",
        "    \"MARIO GALVEZ LOPEZ\",\n",
        "    \"ZARA MARIA UBALDO GALICIA\",\n",
        "    \"BERNARDO ALTAMIRANO GARCIA\",\n",
        "    \"LUIS ANDRES GOMEZ MARTINEZ\",\n",
        "    \"SILVESTRE LEONARDO GONZALEZ ABREU\",\n",
        "    \"FRANCISCO JAVIER ARAMBURU ALVAREZ\",\n",
        "    \"ANDREA DE ANDA KURI\",\n",
        "])\n",
        "print(arr_y.dtype)\n",
        "print(arr_x.dtype)"
      ]
    },
    {
      "cell_type": "code",
      "execution_count": 44,
      "metadata": {},
      "outputs": [
        {
          "output_type": "stream",
          "name": "stdout",
          "text": [
            "\n",
            "Carrera/s Ing. Industrial y Mecatrónica: SILVESTRE LEONARDO GONZALEZ ABREU (1) \n",
            "Carrera/s Ing. en Computación\n",
            "|   Semestre <=8.50: LUIS ANDRES GOMEZ MARTINEZ (1) \n",
            "|   Semestre >8.50\n",
            "|   |   Genero F: ZARA MARIA UBALDO GALICIA (1) \n",
            "|   |   Genero M: BERNARDO ALTAMIRANO GARCIA (1) \n",
            "Carrera/s Ing. en Computación e Ing. Industrial: ANDREA DE ANDA KURI (1) \n",
            "Carrera/s Ing. en Negocios: FRANCISCO JAVIER ARAMBURU ALVAREZ (1) \n",
            "Carrera/s Mecatrónica\n",
            "|   Nombres <=1.50: MARIO GALVEZ LOPEZ (1) \n",
            "|   Nombres >1.50: LUIS FERNANDO MENDEZ CRUZ (1) \n",
            "\n",
            "/Users/bernardoaltamirano/anaconda3/lib/python3.7/site-packages/sklearn/utils/validation.py:563: FutureWarning: Beginning in version 0.22, arrays of bytes/strings will be converted to decimal numbers if dtype='numeric'. It is recommended that you convert the array to a float dtype before using it in scikit-learn, for example by using your_array = your_array.astype(np.float64).\n",
            "  FutureWarning)\n"
          ]
        }
      ],
      "source": [
        "clf = Id3Estimator()\n",
        "clf.fit(arr_x, arr_y, check_input=True)\n",
        "\n",
        "export_graphviz(clf.tree_, \"arbol2.dot\", categorias)\n",
        "print(export_text(clf.tree_, categorias))"
      ]
    }
  ],
  "metadata": {
    "kernelspec": {
      "name": "python373jvsc74a57bd014ea72af40ee9339d6f8ad15aef067494a451ba105d6a0c8fbc9d65e956b1bca",
      "display_name": "Python 3.7.3 64-bit ('base': conda)"
    },
    "language_info": {
      "mimetype": "text/x-python",
      "nbconvert_exporter": "python",
      "name": "python",
      "file_extension": ".py",
      "version": "3.7.3",
      "pygments_lexer": "ipython2",
      "codemirror_mode": {
        "version": 2,
        "name": "ipython"
      }
    }
  }
}