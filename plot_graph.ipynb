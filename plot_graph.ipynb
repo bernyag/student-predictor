{
  "nbformat_minor": 0,
  "nbformat": 4,
  "cells": [
    {
      "execution_count": null,
      "cell_type": "code",
      "source": [
        "%matplotlib inline"
      ],
      "outputs": [],
      "metadata": {
        "collapsed": false
      }
    },
    {
      "source": [
        "\n",
        "# Graph export from Estimator\n",
        "\n",
        "\n",
        "An example graph export of :class:`id3.id3.Id3Estimator` with\n",
        ":file:`id3.export.export_graphviz`\n",
        "\n",
        "\n",
        "$ dot -T png out.dot -o out.png\n",
        "\n",
        ".. figure::  /_static/out.png\n",
        "   :align:   center\n",
        "\n",
        "\n"
      ],
      "cell_type": "markdown",
      "metadata": {}
    },
    {
      "cell_type": "code",
      "execution_count": 95,
      "metadata": {},
      "outputs": [],
      "source": [
        "from id3 import Id3Estimator, export_graphviz, export_text\n",
        "import numpy as np\n",
        "import pandas as pd\n",
        "from sklearn import preprocessing"
      ]
    },
    {
      "execution_count": 5,
      "cell_type": "code",
      "source": [
        "feature_names = [\"age\",\n",
        "                 \"gender\",\n",
        "                 \"sector\",\n",
        "                 \"degree\"]\n",
        "\n",
        "X = np.array([[45, \"male\", \"private\", \"m\"],\n",
        "              [50, \"female\", \"private\", \"m\"],\n",
        "              [61, \"other\", \"public\", \"b\"],\n",
        "              [40, \"male\", \"private\", \"none\"],\n",
        "              [34, \"female\", \"private\", \"none\"],\n",
        "              [33, \"male\", \"public\", \"none\"],\n",
        "              [43, \"other\", \"private\", \"m\"],\n",
        "              [35, \"male\", \"private\", \"m\"],\n",
        "              [34, \"female\", \"private\", \"m\"],\n",
        "              [35, \"male\", \"public\", \"m\"],\n",
        "              [34, \"other\", \"public\", \"m\"],\n",
        "              [34, \"other\", \"public\", \"b\"],\n",
        "              [34, \"female\", \"public\", \"b\"],\n",
        "              [34, \"male\", \"public\", \"b\"],\n",
        "              [34, \"female\", \"private\", \"b\"],\n",
        "              [34, \"male\", \"private\", \"b\"],\n",
        "              [34, \"other\", \"private\", \"b\"]])\n",
        "\n",
        "y = np.array([\"(30k,38k)\",\n",
        "              \"(30k,38k)\",\n",
        "              \"(30k,38k)\",\n",
        "              \"(13k,15k)\",\n",
        "              \"(13k,15k)\",\n",
        "              \"(13k,15k)\",\n",
        "              \"(23k,30k)\",\n",
        "              \"(23k,30k)\",\n",
        "              \"(23k,30k)\",\n",
        "              \"(15k,23k)\",\n",
        "              \"(15k,23k)\",\n",
        "              \"(15k,23k)\",\n",
        "              \"(15k,23k)\",\n",
        "              \"(15k,23k)\",\n",
        "              \"(23k,30k)\",\n",
        "              \"(23k,30k)\",\n",
        "              \"(23k,30k)\"])\n",
        "\n",
        "clf = Id3Estimator()\n",
        "clf.fit(X, y, check_input=True)\n",
        "\n",
        "export_graphviz(clf.tree_, \"out.dot\", feature_names)"
      ],
      "outputs": [
        {
          "output_type": "stream",
          "name": "stderr",
          "text": [
            "/Users/bernardoaltamirano/anaconda3/lib/python3.7/site-packages/sklearn/utils/validation.py:563: FutureWarning: Beginning in version 0.22, arrays of bytes/strings will be converted to decimal numbers if dtype='numeric'. It is recommended that you convert the array to a float dtype before using it in scikit-learn, for example by using your_array = your_array.astype(np.float64).\n  FutureWarning)\n"
          ]
        },
        {
          "output_type": "execute_result",
          "data": {
            "text/plain": [
              "<_io.TextIOWrapper name='out.dot' mode='w' encoding='utf8'>"
            ]
          },
          "metadata": {},
          "execution_count": 5
        }
      ],
      "metadata": {
        "collapsed": false
      }
    },
    {
      "cell_type": "code",
      "execution_count": 15,
      "metadata": {},
      "outputs": [
        {
          "output_type": "execute_result",
          "data": {
            "text/plain": [
              "  carrera semestre genero color_de_pelo estilo_de_pelo lentes  \\\n",
              "0     Mat        8      H      (Rubio,)       (Chino,)  (No,)   \n",
              "1     Mat        6      H      (Rubio,)       (Chino,)  (Sí,)   \n",
              "2    Meca        7      M      (Negro,)       (Largo,)  (No,)   \n",
              "3     Neg        6      M      (Negro,)       (Corto,)  (No,)   \n",
              "4    Comp        8      H      (Negro,)       (Chino,)  (Sí,)   \n",
              "\n",
              "  numero_de_nombres proyecto_1 nombre  \n",
              "0              (1,)  (Puzzle,)      0  \n",
              "1              (2,)  (Puzzle,)      1  \n",
              "2              (2,)     (GPS,)      2  \n",
              "3              (2,)     (GPS,)      3  \n",
              "4              (1,)     (GPS,)      4  "
            ],
            "text/html": "<div>\n<style scoped>\n    .dataframe tbody tr th:only-of-type {\n        vertical-align: middle;\n    }\n\n    .dataframe tbody tr th {\n        vertical-align: top;\n    }\n\n    .dataframe thead th {\n        text-align: right;\n    }\n</style>\n<table border=\"1\" class=\"dataframe\">\n  <thead>\n    <tr style=\"text-align: right;\">\n      <th></th>\n      <th>carrera</th>\n      <th>semestre</th>\n      <th>genero</th>\n      <th>color_de_pelo</th>\n      <th>estilo_de_pelo</th>\n      <th>lentes</th>\n      <th>numero_de_nombres</th>\n      <th>proyecto_1</th>\n      <th>nombre</th>\n    </tr>\n  </thead>\n  <tbody>\n    <tr>\n      <th>0</th>\n      <td>Mat</td>\n      <td>8</td>\n      <td>H</td>\n      <td>(Rubio,)</td>\n      <td>(Chino,)</td>\n      <td>(No,)</td>\n      <td>(1,)</td>\n      <td>(Puzzle,)</td>\n      <td>0</td>\n    </tr>\n    <tr>\n      <th>1</th>\n      <td>Mat</td>\n      <td>6</td>\n      <td>H</td>\n      <td>(Rubio,)</td>\n      <td>(Chino,)</td>\n      <td>(Sí,)</td>\n      <td>(2,)</td>\n      <td>(Puzzle,)</td>\n      <td>1</td>\n    </tr>\n    <tr>\n      <th>2</th>\n      <td>Meca</td>\n      <td>7</td>\n      <td>M</td>\n      <td>(Negro,)</td>\n      <td>(Largo,)</td>\n      <td>(No,)</td>\n      <td>(2,)</td>\n      <td>(GPS,)</td>\n      <td>2</td>\n    </tr>\n    <tr>\n      <th>3</th>\n      <td>Neg</td>\n      <td>6</td>\n      <td>M</td>\n      <td>(Negro,)</td>\n      <td>(Corto,)</td>\n      <td>(No,)</td>\n      <td>(2,)</td>\n      <td>(GPS,)</td>\n      <td>3</td>\n    </tr>\n    <tr>\n      <th>4</th>\n      <td>Comp</td>\n      <td>8</td>\n      <td>H</td>\n      <td>(Negro,)</td>\n      <td>(Chino,)</td>\n      <td>(Sí,)</td>\n      <td>(1,)</td>\n      <td>(GPS,)</td>\n      <td>4</td>\n    </tr>\n  </tbody>\n</table>\n</div>"
          },
          "metadata": {},
          "execution_count": 15
        }
      ],
      "source": [
        "# define features and target values\n",
        "data = {\n",
        "    'carrera': ['Comp', 'Neg', 'Mat', 'Meca'],\n",
        "    'semestre': [5,6,7,8,9,10],\n",
        "    'genero': ['H', 'M'],\n",
        "    'color_de_pelo': ['Negro', 'Café', 'Rubio'],\n",
        "    'estilo_de_pelo': ['Corto', 'Largo', 'Chino', 'Fleco'],\n",
        "    'lentes': ['Sí', 'No'],\n",
        "    'numero_de_nombres': [1, 2],\n",
        "    'proyecto_1': ['Puzzle', 'GPS'],\n",
        "    'nombre': []\n",
        "}\n",
        "\n",
        "# create an empty dataframe\n",
        "data_df = pd.DataFrame(columns=data.keys())"
      ]
    },
    {
      "cell_type": "code",
      "execution_count": 66,
      "metadata": {},
      "outputs": [
        {
          "output_type": "execute_result",
          "data": {
            "text/plain": [
              "LabelEncoder()"
            ]
          },
          "metadata": {},
          "execution_count": 66
        }
      ],
      "source": [
        "le = preprocessing.LabelEncoder()\n",
        "le.fit(['Comp', 'Neg', 'Mat', 'Meca','H', 'M','Negro', 'Café', 'Rubio','Corto', 'Largo', 'Chino', 'Fleco','Sí', 'No','Puzzle', 'GPS', '5','6','7','8','9','10', '1', '2'])"
      ]
    },
    {
      "cell_type": "code",
      "execution_count": 74,
      "metadata": {},
      "outputs": [
        {
          "output_type": "execute_result",
          "data": {
            "text/plain": [
              "  carrera semestre genero color_de_pelo estilo_de_pelo   lentes  \\\n",
              "0    [17]      [6]   [14]       ([23],)         ([9],)  ([21],)   \n",
              "1    [17]      [4]   [14]       ([23],)         ([9],)  ([24],)   \n",
              "2    [18]      [5]   [16]       ([20],)        ([15],)  ([21],)   \n",
              "3    [19]      [4]   [16]       ([20],)        ([11],)  ([21],)   \n",
              "4    [10]      [6]   [14]       ([20],)         ([9],)  ([24],)   \n",
              "\n",
              "  numero_de_nombres proyecto_1 nombre  \n",
              "0            ([0],)    ([22],)      0  \n",
              "1            ([2],)    ([22],)      1  \n",
              "2            ([2],)    ([13],)      2  \n",
              "3            ([2],)    ([13],)      3  \n",
              "4            ([0],)    ([13],)      4  "
            ],
            "text/html": "<div>\n<style scoped>\n    .dataframe tbody tr th:only-of-type {\n        vertical-align: middle;\n    }\n\n    .dataframe tbody tr th {\n        vertical-align: top;\n    }\n\n    .dataframe thead th {\n        text-align: right;\n    }\n</style>\n<table border=\"1\" class=\"dataframe\">\n  <thead>\n    <tr style=\"text-align: right;\">\n      <th></th>\n      <th>carrera</th>\n      <th>semestre</th>\n      <th>genero</th>\n      <th>color_de_pelo</th>\n      <th>estilo_de_pelo</th>\n      <th>lentes</th>\n      <th>numero_de_nombres</th>\n      <th>proyecto_1</th>\n      <th>nombre</th>\n    </tr>\n  </thead>\n  <tbody>\n    <tr>\n      <th>0</th>\n      <td>[17]</td>\n      <td>[6]</td>\n      <td>[14]</td>\n      <td>([23],)</td>\n      <td>([9],)</td>\n      <td>([21],)</td>\n      <td>([0],)</td>\n      <td>([22],)</td>\n      <td>0</td>\n    </tr>\n    <tr>\n      <th>1</th>\n      <td>[17]</td>\n      <td>[4]</td>\n      <td>[14]</td>\n      <td>([23],)</td>\n      <td>([9],)</td>\n      <td>([24],)</td>\n      <td>([2],)</td>\n      <td>([22],)</td>\n      <td>1</td>\n    </tr>\n    <tr>\n      <th>2</th>\n      <td>[18]</td>\n      <td>[5]</td>\n      <td>[16]</td>\n      <td>([20],)</td>\n      <td>([15],)</td>\n      <td>([21],)</td>\n      <td>([2],)</td>\n      <td>([13],)</td>\n      <td>2</td>\n    </tr>\n    <tr>\n      <th>3</th>\n      <td>[19]</td>\n      <td>[4]</td>\n      <td>[16]</td>\n      <td>([20],)</td>\n      <td>([11],)</td>\n      <td>([21],)</td>\n      <td>([2],)</td>\n      <td>([13],)</td>\n      <td>3</td>\n    </tr>\n    <tr>\n      <th>4</th>\n      <td>[10]</td>\n      <td>[6]</td>\n      <td>[14]</td>\n      <td>([20],)</td>\n      <td>([9],)</td>\n      <td>([24],)</td>\n      <td>([0],)</td>\n      <td>([13],)</td>\n      <td>4</td>\n    </tr>\n  </tbody>\n</table>\n</div>"
          },
          "metadata": {},
          "execution_count": 74
        }
      ],
      "source": [
        "\n",
        "np.random.seed(42)\n",
        "# randomnly create 200 instances\n",
        "for i in range(200):\n",
        "    data_df.loc[i, 'carrera'] = le.transform([np.random.choice(data['carrera'], 1)[0]])[0],\n",
        "    data_df.loc[i, 'semestre'] = le.transform([np.random.choice(data['semestre'], 1)[0]])[0],\n",
        "    data_df.loc[i, 'genero'] = le.transform([np.random.choice(data['genero'], 1)[0]])[0],\n",
        "    data_df.loc[i, 'color_de_pelo'] = le.transform([np.random.choice(data['color_de_pelo'], 1)[0]])[0],\n",
        "    data_df.loc[i, 'estilo_de_pelo'] = le.transform([np.random.choice(data['estilo_de_pelo'], 1)[0]])[0],\n",
        "    data_df.loc[i, 'lentes'] = le.transform([np.random.choice(data['lentes'], 1)[0]])[0],\n",
        "    data_df.loc[i, 'numero_de_nombres'] = le.transform([np.random.choice(data['numero_de_nombres'], 1)[0]])[0],\n",
        "    data_df.loc[i, 'proyecto_1'] = le.transform([np.random.choice(data['proyecto_1'], 1)[0]])[0],\n",
        "    data_df.loc[i, 'nombre'] = str(i)\n",
        "data_df.head()"
      ]
    },
    {
      "cell_type": "code",
      "execution_count": 87,
      "metadata": {},
      "outputs": [],
      "source": [
        "data_df['carrera'] = data_df['carrera'].astype(str).str.replace(r\"\\(|\\)|,|'\", '')\n",
        "data_df['semestre'] = data_df['semestre'].astype(str).str.replace(r\"\\(|\\)|,|'\", '')\n",
        "data_df['genero'] = data_df['genero'].astype(str).str.replace(r\"\\(|\\)|,|'\", '')\n",
        "data_df['color_de_pelo'] = data_df['color_de_pelo'].astype(str).str.replace(r\"\\(|\\)|,|'\", '')\n",
        "data_df['estilo_de_pelo'] = data_df['estilo_de_pelo'].astype(str).str.replace(r\"\\(|\\)|,|'\", '')\n",
        "data_df['lentes'] = data_df['lentes'].astype(str).str.replace(r\"\\(|\\)|,|'\", '')\n",
        "data_df['numero_de_nombres'] = data_df['numero_de_nombres'].astype(str).str.replace(r\"\\(|\\)|,|'\", '')\n",
        "data_df['proyecto_1'] = data_df['proyecto_1'].astype(str).str.replace(r\"\\(|\\)|,|'\", '')"
      ]
    },
    {
      "cell_type": "code",
      "execution_count": 88,
      "metadata": {},
      "outputs": [
        {
          "output_type": "execute_result",
          "data": {
            "text/plain": [
              "  carrera semestre genero color_de_pelo estilo_de_pelo lentes  \\\n",
              "0      17        6     14            23              9     21   \n",
              "1      17        4     14            23              9     24   \n",
              "2      18        5     16            20             15     21   \n",
              "3      19        4     16            20             11     21   \n",
              "4      10        6     14            20              9     24   \n",
              "\n",
              "  numero_de_nombres proyecto_1 nombre  \n",
              "0                 0         22      0  \n",
              "1                 2         22      1  \n",
              "2                 2         13      2  \n",
              "3                 2         13      3  \n",
              "4                 0         13      4  "
            ],
            "text/html": "<div>\n<style scoped>\n    .dataframe tbody tr th:only-of-type {\n        vertical-align: middle;\n    }\n\n    .dataframe tbody tr th {\n        vertical-align: top;\n    }\n\n    .dataframe thead th {\n        text-align: right;\n    }\n</style>\n<table border=\"1\" class=\"dataframe\">\n  <thead>\n    <tr style=\"text-align: right;\">\n      <th></th>\n      <th>carrera</th>\n      <th>semestre</th>\n      <th>genero</th>\n      <th>color_de_pelo</th>\n      <th>estilo_de_pelo</th>\n      <th>lentes</th>\n      <th>numero_de_nombres</th>\n      <th>proyecto_1</th>\n      <th>nombre</th>\n    </tr>\n  </thead>\n  <tbody>\n    <tr>\n      <th>0</th>\n      <td>17</td>\n      <td>6</td>\n      <td>14</td>\n      <td>23</td>\n      <td>9</td>\n      <td>21</td>\n      <td>0</td>\n      <td>22</td>\n      <td>0</td>\n    </tr>\n    <tr>\n      <th>1</th>\n      <td>17</td>\n      <td>4</td>\n      <td>14</td>\n      <td>23</td>\n      <td>9</td>\n      <td>24</td>\n      <td>2</td>\n      <td>22</td>\n      <td>1</td>\n    </tr>\n    <tr>\n      <th>2</th>\n      <td>18</td>\n      <td>5</td>\n      <td>16</td>\n      <td>20</td>\n      <td>15</td>\n      <td>21</td>\n      <td>2</td>\n      <td>13</td>\n      <td>2</td>\n    </tr>\n    <tr>\n      <th>3</th>\n      <td>19</td>\n      <td>4</td>\n      <td>16</td>\n      <td>20</td>\n      <td>11</td>\n      <td>21</td>\n      <td>2</td>\n      <td>13</td>\n      <td>3</td>\n    </tr>\n    <tr>\n      <th>4</th>\n      <td>10</td>\n      <td>6</td>\n      <td>14</td>\n      <td>20</td>\n      <td>9</td>\n      <td>24</td>\n      <td>0</td>\n      <td>13</td>\n      <td>4</td>\n    </tr>\n  </tbody>\n</table>\n</div>"
          },
          "metadata": {},
          "execution_count": 88
        }
      ],
      "source": [
        "data_df.head()"
      ]
    },
    {
      "cell_type": "code",
      "execution_count": 94,
      "metadata": {},
      "outputs": [
        {
          "output_type": "stream",
          "name": "stdout",
          "text": [
            "\ncarrera <=17.50\n|   semestre <=4.50\n|   |   proyecto_1 <=17.50\n|   |   |   color_de_pelo <=21.50\n|   |   |   |   estilo_de_pelo <=11.50\n|   |   |   |   |   genero <=15.00\n|   |   |   |   |   |   lentes <=22.50: 66 (1) \n|   |   |   |   |   |   lentes >22.50\n|   |   |   |   |   |   |   numero_de_nombres <=1.00: 28 (1) \n|   |   |   |   |   |   |   numero_de_nombres >1.00: 105 (1) \n|   |   |   |   |   genero >15.00\n|   |   |   |   |   |   lentes <=22.50: 156 (1) \n|   |   |   |   |   |   lentes >22.50: 32 (1) \n|   |   |   |   estilo_de_pelo >11.50\n|   |   |   |   |   lentes <=22.50: 138 (1/2) \n|   |   |   |   |   lentes >22.50\n|   |   |   |   |   |   numero_de_nombres <=1.00: 168 (1/1) \n|   |   |   |   |   |   numero_de_nombres >1.00\n|   |   |   |   |   |   |   genero <=15.00: 7 (1) \n|   |   |   |   |   |   |   genero >15.00: 142 (1) \n|   |   |   color_de_pelo >21.50\n|   |   |   |   numero_de_nombres <=1.00\n|   |   |   |   |   estilo_de_pelo <=10.00: 16 (1/1) \n|   |   |   |   |   estilo_de_pelo >10.00\n|   |   |   |   |   |   genero <=15.00: 171 (1) \n|   |   |   |   |   |   genero >15.00\n|   |   |   |   |   |   |   lentes <=22.50: 60 (1) \n|   |   |   |   |   |   |   lentes >22.50: 118 (1) \n|   |   |   |   numero_de_nombres >1.00\n|   |   |   |   |   genero <=15.00\n|   |   |   |   |   |   estilo_de_pelo <=13.50\n|   |   |   |   |   |   |   lentes <=22.50: 182 (1) \n|   |   |   |   |   |   |   lentes >22.50: 144 (1) \n|   |   |   |   |   |   estilo_de_pelo >13.50: 198 (1) \n|   |   |   |   |   genero >15.00\n|   |   |   |   |   |   estilo_de_pelo <=10.00: 128 (1/1) \n|   |   |   |   |   |   estilo_de_pelo >10.00: 88 (1) \n|   |   proyecto_1 >17.50\n|   |   |   genero <=15.00\n|   |   |   |   color_de_pelo <=21.50\n|   |   |   |   |   estilo_de_pelo <=11.50\n|   |   |   |   |   |   lentes <=22.50: 99 (1) \n|   |   |   |   |   |   lentes >22.50: 123 (1/1) \n|   |   |   |   |   estilo_de_pelo >11.50\n|   |   |   |   |   |   lentes <=22.50: 61 (1) \n|   |   |   |   |   |   lentes >22.50: 110 (1/1) \n|   |   |   |   color_de_pelo >21.50\n|   |   |   |   |   estilo_de_pelo <=10.00\n|   |   |   |   |   |   numero_de_nombres <=1.00: 127 (1/1) \n|   |   |   |   |   |   numero_de_nombres >1.00: 1 (1) \n|   |   |   |   |   estilo_de_pelo >10.00\n|   |   |   |   |   |   lentes <=22.50: 185 (1/1) \n|   |   |   |   |   |   lentes >22.50\n|   |   |   |   |   |   |   numero_de_nombres <=1.00: 15 (1) \n|   |   |   |   |   |   |   numero_de_nombres >1.00: 108 (1) \n|   |   |   genero >15.00\n|   |   |   |   estilo_de_pelo <=11.50\n|   |   |   |   |   numero_de_nombres <=1.00\n|   |   |   |   |   |   color_de_pelo <=14.00: 59 (1) \n|   |   |   |   |   |   color_de_pelo >14.00\n|   |   |   |   |   |   |   lentes <=22.50: 188 (1) \n|   |   |   |   |   |   |   lentes >22.50: 119 (1) \n|   |   |   |   |   numero_de_nombres >1.00\n|   |   |   |   |   |   color_de_pelo <=14.00: 199 (1) \n|   |   |   |   |   |   color_de_pelo >14.00: 22 (1/1) \n|   |   |   |   estilo_de_pelo >11.50\n|   |   |   |   |   color_de_pelo <=14.00\n|   |   |   |   |   |   numero_de_nombres <=1.00: 125 (1/1) \n|   |   |   |   |   |   numero_de_nombres >1.00: 45 (1) \n|   |   |   |   |   color_de_pelo >14.00\n|   |   |   |   |   |   lentes <=22.50: 152 (1/1) \n|   |   |   |   |   |   lentes >22.50\n|   |   |   |   |   |   |   numero_de_nombres <=1.00: 91 (1) \n|   |   |   |   |   |   |   numero_de_nombres >1.00: 96 (1) \n|   semestre >4.50\n|   |   numero_de_nombres <=1.00\n|   |   |   estilo_de_pelo <=11.50\n|   |   |   |   genero <=15.00\n|   |   |   |   |   color_de_pelo <=21.50\n|   |   |   |   |   |   proyecto_1 <=17.50: 109 (1/1) \n|   |   |   |   |   |   proyecto_1 >17.50: 23 (1/1) \n|   |   |   |   |   color_de_pelo >21.50\n|   |   |   |   |   |   proyecto_1 <=17.50: 17 (1) \n|   |   |   |   |   |   proyecto_1 >17.50: 0 (1/1) \n|   |   |   |   genero >15.00\n|   |   |   |   |   lentes <=22.50\n|   |   |   |   |   |   color_de_pelo <=14.00: 70 (1) \n|   |   |   |   |   |   color_de_pelo >14.00: 135 (1/1) \n|   |   |   |   |   lentes >22.50\n|   |   |   |   |   |   color_de_pelo <=14.00: 179 (1) \n|   |   |   |   |   |   color_de_pelo >14.00\n|   |   |   |   |   |   |   proyecto_1 <=17.50: 151 (1) \n|   |   |   |   |   |   |   proyecto_1 >17.50: 134 (1) \n|   |   |   estilo_de_pelo >11.50\n|   |   |   |   genero <=15.00\n|   |   |   |   |   lentes <=22.50\n|   |   |   |   |   |   color_de_pelo <=14.00: 197 (1) \n|   |   |   |   |   |   color_de_pelo >14.00\n|   |   |   |   |   |   |   proyecto_1 <=17.50: 154 (1) \n|   |   |   |   |   |   |   proyecto_1 >17.50: 122 (1) \n|   |   |   |   |   lentes >22.50\n|   |   |   |   |   |   color_de_pelo <=21.50\n|   |   |   |   |   |   |   proyecto_1 <=17.50: 9 (1) \n|   |   |   |   |   |   |   proyecto_1 >17.50: 24 (1/1) \n|   |   |   |   |   |   color_de_pelo >21.50: 27 (1/1) \n|   |   |   |   genero >15.00\n|   |   |   |   |   color_de_pelo <=21.50\n|   |   |   |   |   |   proyecto_1 <=17.50: 36 (1) \n|   |   |   |   |   |   proyecto_1 >17.50: 178 (1/1) \n|   |   |   |   |   color_de_pelo >21.50\n|   |   |   |   |   |   proyecto_1 <=17.50: 93 (1) \n|   |   |   |   |   |   proyecto_1 >17.50: 100 (1) \n|   |   numero_de_nombres >1.00\n|   |   |   genero <=15.00\n|   |   |   |   color_de_pelo <=21.50\n|   |   |   |   |   lentes <=22.50\n|   |   |   |   |   |   estilo_de_pelo <=13.50: 18 (1/1) \n|   |   |   |   |   |   estilo_de_pelo >13.50: 116 (1/1) \n|   |   |   |   |   lentes >22.50\n|   |   |   |   |   |   estilo_de_pelo <=10.50: 163 (1/1) \n|   |   |   |   |   |   estilo_de_pelo >10.50: 106 (1/1) \n|   |   |   |   color_de_pelo >21.50\n|   |   |   |   |   estilo_de_pelo <=11.50\n|   |   |   |   |   |   proyecto_1 <=17.50: 160 (1) \n|   |   |   |   |   |   proyecto_1 >17.50: 20 (1) \n|   |   |   |   |   estilo_de_pelo >11.50\n|   |   |   |   |   |   proyecto_1 <=17.50: 80 (1) \n|   |   |   |   |   |   proyecto_1 >17.50: 94 (1/1) \n|   |   |   genero >15.00\n|   |   |   |   estilo_de_pelo <=13.50\n|   |   |   |   |   proyecto_1 <=17.50\n|   |   |   |   |   |   color_de_pelo <=14.00\n|   |   |   |   |   |   |   lentes <=22.50: 111 (1) \n|   |   |   |   |   |   |   lentes >22.50: 44 (1) \n|   |   |   |   |   |   color_de_pelo >14.00: 74 (1) \n|   |   |   |   |   proyecto_1 >17.50\n|   |   |   |   |   |   color_de_pelo <=14.00: 103 (1/1) \n|   |   |   |   |   |   color_de_pelo >14.00: 92 (1) \n|   |   |   |   estilo_de_pelo >13.50\n|   |   |   |   |   color_de_pelo <=14.00\n|   |   |   |   |   |   lentes <=22.50: 10 (1/1) \n|   |   |   |   |   |   lentes >22.50: 164 (1) \n|   |   |   |   |   color_de_pelo >14.00\n|   |   |   |   |   |   lentes <=22.50: 196 (1) \n|   |   |   |   |   |   lentes >22.50: 132 (1/1) \ncarrera >17.50\n|   estilo_de_pelo <=11.50\n|   |   genero <=15.00\n|   |   |   lentes <=22.50\n|   |   |   |   semestre <=4.50\n|   |   |   |   |   numero_de_nombres <=1.00\n|   |   |   |   |   |   proyecto_1 <=17.50: 114 (1/1) \n|   |   |   |   |   |   proyecto_1 >17.50: 40 (1) \n|   |   |   |   |   numero_de_nombres >1.00\n|   |   |   |   |   |   color_de_pelo <=15.50: 181 (1/1) \n|   |   |   |   |   |   color_de_pelo >15.50: 68 (1) \n|   |   |   |   semestre >4.50\n|   |   |   |   |   color_de_pelo <=14.00\n|   |   |   |   |   |   numero_de_nombres <=1.00: 51 (1) \n|   |   |   |   |   |   numero_de_nombres >1.00: 176 (1) \n|   |   |   |   |   color_de_pelo >14.00\n|   |   |   |   |   |   numero_de_nombres <=1.00: 117 (1/2) \n|   |   |   |   |   |   numero_de_nombres >1.00: 63 (1) \n|   |   |   lentes >22.50\n|   |   |   |   semestre <=5.50\n|   |   |   |   |   color_de_pelo <=14.00\n|   |   |   |   |   |   numero_de_nombres <=1.00: 29 (1) \n|   |   |   |   |   |   numero_de_nombres >1.00: 184 (1/1) \n|   |   |   |   |   color_de_pelo >14.00\n|   |   |   |   |   |   proyecto_1 <=17.50: 146 (1/1) \n|   |   |   |   |   |   proyecto_1 >17.50: 120 (1) \n|   |   |   |   semestre >5.50\n|   |   |   |   |   numero_de_nombres <=1.00\n|   |   |   |   |   |   color_de_pelo <=15.50: 84 (1) \n|   |   |   |   |   |   color_de_pelo >15.50\n|   |   |   |   |   |   |   proyecto_1 <=17.50: 101 (1) \n|   |   |   |   |   |   |   proyecto_1 >17.50: 43 (1) \n|   |   |   |   |   numero_de_nombres >1.00\n|   |   |   |   |   |   color_de_pelo <=14.00: 115 (1) \n|   |   |   |   |   |   color_de_pelo >14.00\n|   |   |   |   |   |   |   proyecto_1 <=17.50: 87 (1) \n|   |   |   |   |   |   |   proyecto_1 >17.50: 121 (1) \n|   |   genero >15.00\n|   |   |   semestre <=4.50\n|   |   |   |   lentes <=22.50\n|   |   |   |   |   color_de_pelo <=14.00\n|   |   |   |   |   |   numero_de_nombres <=1.00\n|   |   |   |   |   |   |   proyecto_1 <=17.50: 12 (1) \n|   |   |   |   |   |   |   proyecto_1 >17.50: 47 (1) \n|   |   |   |   |   |   numero_de_nombres >1.00: 65 (1) \n|   |   |   |   |   color_de_pelo >14.00\n|   |   |   |   |   |   numero_de_nombres <=1.00: 77 (1/1) \n|   |   |   |   |   |   numero_de_nombres >1.00: 19 (1/1) \n|   |   |   |   lentes >22.50\n|   |   |   |   |   numero_de_nombres <=1.00\n|   |   |   |   |   |   color_de_pelo <=14.00: 186 (1/1) \n|   |   |   |   |   |   color_de_pelo >14.00: 162 (1) \n|   |   |   |   |   numero_de_nombres >1.00\n|   |   |   |   |   |   color_de_pelo <=21.50: 141 (1/1) \n|   |   |   |   |   |   color_de_pelo >21.50: 102 (1) \n|   |   |   semestre >4.50\n|   |   |   |   color_de_pelo <=14.00\n|   |   |   |   |   proyecto_1 <=17.50\n|   |   |   |   |   |   numero_de_nombres <=1.00: 133 (1) \n|   |   |   |   |   |   numero_de_nombres >1.00: 14 (1) \n|   |   |   |   |   proyecto_1 >17.50: 143 (1/3) \n|   |   |   |   color_de_pelo >14.00\n|   |   |   |   |   lentes <=22.50\n|   |   |   |   |   |   numero_de_nombres <=1.00: 190 (1) \n|   |   |   |   |   |   numero_de_nombres >1.00: 113 (1) \n|   |   |   |   |   lentes >22.50\n|   |   |   |   |   |   numero_de_nombres <=1.00: 167 (1/2) \n|   |   |   |   |   |   numero_de_nombres >1.00: 35 (1) \n|   estilo_de_pelo >11.50\n|   |   semestre <=4.50\n|   |   |   color_de_pelo <=21.50\n|   |   |   |   genero <=15.00\n|   |   |   |   |   lentes <=22.50\n|   |   |   |   |   |   numero_de_nombres <=1.00: 194 (1) \n|   |   |   |   |   |   numero_de_nombres >1.00\n|   |   |   |   |   |   |   proyecto_1 <=17.50: 124 (1) \n|   |   |   |   |   |   |   proyecto_1 >17.50: 34 (1) \n|   |   |   |   |   lentes >22.50\n|   |   |   |   |   |   numero_de_nombres <=1.00: 33 (1) \n|   |   |   |   |   |   numero_de_nombres >1.00: 149 (1/2) \n|   |   |   |   genero >15.00\n|   |   |   |   |   numero_de_nombres <=1.00\n|   |   |   |   |   |   lentes <=22.50\n|   |   |   |   |   |   |   proyecto_1 <=17.50: 159 (1) \n|   |   |   |   |   |   |   proyecto_1 >17.50: 50 (1) \n|   |   |   |   |   |   lentes >22.50: 107 (1) \n|   |   |   |   |   numero_de_nombres >1.00\n|   |   |   |   |   |   lentes <=22.50: 129 (1/1) \n|   |   |   |   |   |   lentes >22.50: 48 (1) \n|   |   |   color_de_pelo >21.50\n|   |   |   |   numero_de_nombres <=1.00\n|   |   |   |   |   genero <=15.00\n|   |   |   |   |   |   lentes <=22.50\n|   |   |   |   |   |   |   proyecto_1 <=17.50: 89 (1) \n|   |   |   |   |   |   |   proyecto_1 >17.50: 37 (1) \n|   |   |   |   |   |   lentes >22.50: 140 (1) \n|   |   |   |   |   genero >15.00\n|   |   |   |   |   |   lentes <=22.50: 57 (1) \n|   |   |   |   |   |   lentes >22.50: 153 (1) \n|   |   |   |   numero_de_nombres >1.00\n|   |   |   |   |   proyecto_1 <=17.50: 11 (1/2) \n|   |   |   |   |   proyecto_1 >17.50\n|   |   |   |   |   |   genero <=15.00: 161 (1) \n|   |   |   |   |   |   genero >15.00: 158 (1/1) \n|   |   semestre >4.50\n|   |   |   genero <=15.00\n|   |   |   |   proyecto_1 <=17.50\n|   |   |   |   |   lentes <=22.50\n|   |   |   |   |   |   color_de_pelo <=14.00\n|   |   |   |   |   |   |   numero_de_nombres <=1.00: 78 (1) \n|   |   |   |   |   |   |   numero_de_nombres >1.00: 112 (1) \n|   |   |   |   |   |   color_de_pelo >14.00: 39 (1/1) \n|   |   |   |   |   lentes >22.50\n|   |   |   |   |   |   numero_de_nombres <=1.00: 191 (1) \n|   |   |   |   |   |   numero_de_nombres >1.00: 126 (1/1) \n|   |   |   |   proyecto_1 >17.50\n|   |   |   |   |   color_de_pelo <=21.50\n|   |   |   |   |   |   numero_de_nombres <=1.00\n|   |   |   |   |   |   |   lentes <=22.50: 49 (1) \n|   |   |   |   |   |   |   lentes >22.50: 139 (1) \n|   |   |   |   |   |   numero_de_nombres >1.00: 13 (1/1) \n|   |   |   |   |   color_de_pelo >21.50\n|   |   |   |   |   |   lentes <=22.50: 172 (1) \n|   |   |   |   |   |   lentes >22.50: 145 (1/1) \n|   |   |   genero >15.00\n|   |   |   |   proyecto_1 <=17.50\n|   |   |   |   |   color_de_pelo <=21.50\n|   |   |   |   |   |   lentes <=22.50: 2 (1/1) \n|   |   |   |   |   |   lentes >22.50: 26 (1) \n|   |   |   |   |   color_de_pelo >21.50\n|   |   |   |   |   |   lentes <=22.50: 5 (1) \n|   |   |   |   |   |   lentes >22.50\n|   |   |   |   |   |   |   numero_de_nombres <=1.00: 54 (1) \n|   |   |   |   |   |   |   numero_de_nombres >1.00: 155 (1) \n|   |   |   |   proyecto_1 >17.50\n|   |   |   |   |   numero_de_nombres <=1.00\n|   |   |   |   |   |   color_de_pelo <=21.50: 166 (1/1) \n|   |   |   |   |   |   color_de_pelo >21.50: 131 (1) \n|   |   |   |   |   numero_de_nombres >1.00\n|   |   |   |   |   |   color_de_pelo <=14.00: 85 (1) \n|   |   |   |   |   |   color_de_pelo >14.00: 137 (1/2) \n\n"
          ]
        },
        {
          "output_type": "execute_result",
          "data": {
            "text/plain": [
              "<_io.TextIOWrapper name='arbol.dot' mode='w' encoding='utf8'>"
            ]
          },
          "metadata": {},
          "execution_count": 94
        }
      ],
      "source": [
        "estimador = Id3Estimator()\n",
        "estimador.fit(data_df.drop('nombre', axis=1), data_df['nombre'], check_input=True)\n",
        "\n",
        "print(export_text(estimador.tree_, list(data.keys())))\n",
        "export_graphviz(estimador.tree_, \"arbol.dot\", list(data.keys()))"
      ]
    }
  ],
  "metadata": {
    "kernelspec": {
      "name": "python373jvsc74a57bd014ea72af40ee9339d6f8ad15aef067494a451ba105d6a0c8fbc9d65e956b1bca",
      "display_name": "Python 3.7.3 64-bit ('base': conda)"
    },
    "language_info": {
      "mimetype": "text/x-python",
      "nbconvert_exporter": "python",
      "name": "python",
      "file_extension": ".py",
      "version": "3.7.3",
      "pygments_lexer": "ipython2",
      "codemirror_mode": {
        "version": 2,
        "name": "ipython"
      }
    }
  }
}