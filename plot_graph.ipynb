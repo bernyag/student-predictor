{
  "nbformat_minor": 0,
  "nbformat": 4,
  "cells": [
    {
      "execution_count": null,
      "cell_type": "code",
      "source": [
        "%matplotlib inline"
      ],
      "outputs": [],
      "metadata": {
        "collapsed": false
      }
    },
    {
      "source": [
        "\n",
        "# Graph export from Estimator\n",
        "\n",
        "\n",
        "An example graph export of :class:`id3.id3.Id3Estimator` with\n",
        ":file:`id3.export.export_graphviz`\n",
        "\n",
        "\n",
        "$ dot -T png out.dot -o out.png\n",
        "\n",
        ".. figure::  /_static/out.png\n",
        "   :align:   center\n",
        "\n",
        "\n"
      ],
      "cell_type": "markdown",
      "metadata": {}
    },
    {
      "cell_type": "code",
      "execution_count": 7,
      "metadata": {},
      "outputs": [],
      "source": [
        "from id3 import Id3Estimator, export_graphviz\n",
        "import numpy as np\n",
        "import pandas as pd"
      ]
    },
    {
      "execution_count": 5,
      "cell_type": "code",
      "source": [
        "feature_names = [\"age\",\n",
        "                 \"gender\",\n",
        "                 \"sector\",\n",
        "                 \"degree\"]\n",
        "\n",
        "X = np.array([[45, \"male\", \"private\", \"m\"],\n",
        "              [50, \"female\", \"private\", \"m\"],\n",
        "              [61, \"other\", \"public\", \"b\"],\n",
        "              [40, \"male\", \"private\", \"none\"],\n",
        "              [34, \"female\", \"private\", \"none\"],\n",
        "              [33, \"male\", \"public\", \"none\"],\n",
        "              [43, \"other\", \"private\", \"m\"],\n",
        "              [35, \"male\", \"private\", \"m\"],\n",
        "              [34, \"female\", \"private\", \"m\"],\n",
        "              [35, \"male\", \"public\", \"m\"],\n",
        "              [34, \"other\", \"public\", \"m\"],\n",
        "              [34, \"other\", \"public\", \"b\"],\n",
        "              [34, \"female\", \"public\", \"b\"],\n",
        "              [34, \"male\", \"public\", \"b\"],\n",
        "              [34, \"female\", \"private\", \"b\"],\n",
        "              [34, \"male\", \"private\", \"b\"],\n",
        "              [34, \"other\", \"private\", \"b\"]])\n",
        "\n",
        "y = np.array([\"(30k,38k)\",\n",
        "              \"(30k,38k)\",\n",
        "              \"(30k,38k)\",\n",
        "              \"(13k,15k)\",\n",
        "              \"(13k,15k)\",\n",
        "              \"(13k,15k)\",\n",
        "              \"(23k,30k)\",\n",
        "              \"(23k,30k)\",\n",
        "              \"(23k,30k)\",\n",
        "              \"(15k,23k)\",\n",
        "              \"(15k,23k)\",\n",
        "              \"(15k,23k)\",\n",
        "              \"(15k,23k)\",\n",
        "              \"(15k,23k)\",\n",
        "              \"(23k,30k)\",\n",
        "              \"(23k,30k)\",\n",
        "              \"(23k,30k)\"])\n",
        "\n",
        "clf = Id3Estimator()\n",
        "clf.fit(X, y, check_input=True)\n",
        "\n",
        "export_graphviz(clf.tree_, \"out.dot\", feature_names)"
      ],
      "outputs": [
        {
          "output_type": "stream",
          "name": "stderr",
          "text": [
            "/Users/bernardoaltamirano/anaconda3/lib/python3.7/site-packages/sklearn/utils/validation.py:563: FutureWarning: Beginning in version 0.22, arrays of bytes/strings will be converted to decimal numbers if dtype='numeric'. It is recommended that you convert the array to a float dtype before using it in scikit-learn, for example by using your_array = your_array.astype(np.float64).\n  FutureWarning)\n"
          ]
        },
        {
          "output_type": "execute_result",
          "data": {
            "text/plain": [
              "<_io.TextIOWrapper name='out.dot' mode='w' encoding='utf8'>"
            ]
          },
          "metadata": {},
          "execution_count": 5
        }
      ],
      "metadata": {
        "collapsed": false
      }
    },
    {
      "cell_type": "code",
      "execution_count": 15,
      "metadata": {},
      "outputs": [
        {
          "output_type": "execute_result",
          "data": {
            "text/plain": [
              "  carrera semestre genero color_de_pelo estilo_de_pelo lentes  \\\n",
              "0     Mat        8      H      (Rubio,)       (Chino,)  (No,)   \n",
              "1     Mat        6      H      (Rubio,)       (Chino,)  (Sí,)   \n",
              "2    Meca        7      M      (Negro,)       (Largo,)  (No,)   \n",
              "3     Neg        6      M      (Negro,)       (Corto,)  (No,)   \n",
              "4    Comp        8      H      (Negro,)       (Chino,)  (Sí,)   \n",
              "\n",
              "  numero_de_nombres proyecto_1 nombre  \n",
              "0              (1,)  (Puzzle,)      0  \n",
              "1              (2,)  (Puzzle,)      1  \n",
              "2              (2,)     (GPS,)      2  \n",
              "3              (2,)     (GPS,)      3  \n",
              "4              (1,)     (GPS,)      4  "
            ],
            "text/html": "<div>\n<style scoped>\n    .dataframe tbody tr th:only-of-type {\n        vertical-align: middle;\n    }\n\n    .dataframe tbody tr th {\n        vertical-align: top;\n    }\n\n    .dataframe thead th {\n        text-align: right;\n    }\n</style>\n<table border=\"1\" class=\"dataframe\">\n  <thead>\n    <tr style=\"text-align: right;\">\n      <th></th>\n      <th>carrera</th>\n      <th>semestre</th>\n      <th>genero</th>\n      <th>color_de_pelo</th>\n      <th>estilo_de_pelo</th>\n      <th>lentes</th>\n      <th>numero_de_nombres</th>\n      <th>proyecto_1</th>\n      <th>nombre</th>\n    </tr>\n  </thead>\n  <tbody>\n    <tr>\n      <th>0</th>\n      <td>Mat</td>\n      <td>8</td>\n      <td>H</td>\n      <td>(Rubio,)</td>\n      <td>(Chino,)</td>\n      <td>(No,)</td>\n      <td>(1,)</td>\n      <td>(Puzzle,)</td>\n      <td>0</td>\n    </tr>\n    <tr>\n      <th>1</th>\n      <td>Mat</td>\n      <td>6</td>\n      <td>H</td>\n      <td>(Rubio,)</td>\n      <td>(Chino,)</td>\n      <td>(Sí,)</td>\n      <td>(2,)</td>\n      <td>(Puzzle,)</td>\n      <td>1</td>\n    </tr>\n    <tr>\n      <th>2</th>\n      <td>Meca</td>\n      <td>7</td>\n      <td>M</td>\n      <td>(Negro,)</td>\n      <td>(Largo,)</td>\n      <td>(No,)</td>\n      <td>(2,)</td>\n      <td>(GPS,)</td>\n      <td>2</td>\n    </tr>\n    <tr>\n      <th>3</th>\n      <td>Neg</td>\n      <td>6</td>\n      <td>M</td>\n      <td>(Negro,)</td>\n      <td>(Corto,)</td>\n      <td>(No,)</td>\n      <td>(2,)</td>\n      <td>(GPS,)</td>\n      <td>3</td>\n    </tr>\n    <tr>\n      <th>4</th>\n      <td>Comp</td>\n      <td>8</td>\n      <td>H</td>\n      <td>(Negro,)</td>\n      <td>(Chino,)</td>\n      <td>(Sí,)</td>\n      <td>(1,)</td>\n      <td>(GPS,)</td>\n      <td>4</td>\n    </tr>\n  </tbody>\n</table>\n</div>"
          },
          "metadata": {},
          "execution_count": 15
        }
      ],
      "source": [
        "# define features and target values\n",
        "data = {\n",
        "    'carrera': ['Comp', 'Neg', 'Mat', 'Meca'],\n",
        "    'semestre': [5,6,7,8,9,10],\n",
        "    'genero': ['H', 'M'],\n",
        "    'color_de_pelo': ['Negro', 'Café', 'Rubio'],\n",
        "    'estilo_de_pelo': ['Corto', 'Largo', 'Chino', 'Fleco'],\n",
        "    'lentes': ['Sí', 'No'],\n",
        "    'numero_de_nombres': [1, 2],\n",
        "    'proyecto_1': ['Puzzle', 'GPS'],\n",
        "    'nombre': []\n",
        "}\n",
        "\n",
        "# create an empty dataframe\n",
        "data_df = pd.DataFrame(columns=data.keys())\n",
        "\n",
        "np.random.seed(42)\n",
        "# randomnly create 200 instances\n",
        "for i in range(200):\n",
        "    data_df.loc[i, 'carrera'] = str(np.random.choice(data['carrera'], 1)[0])\n",
        "    data_df.loc[i, 'semestre'] = str(np.random.choice(data['semestre'], 1)[0])\n",
        "    data_df.loc[i, 'genero'] = str(np.random.choice(data['genero'], 1)[0])\n",
        "    data_df.loc[i, 'color_de_pelo'] = str(np.random.choice(data['color_de_pelo'], 1)[0]),\n",
        "    data_df.loc[i, 'estilo_de_pelo'] = str(np.random.choice(data['estilo_de_pelo'], 1)[0]),\n",
        "    data_df.loc[i, 'lentes'] = str(np.random.choice(data['lentes'], 1)[0]),\n",
        "    data_df.loc[i, 'numero_de_nombres'] = str(np.random.choice(data['numero_de_nombres'], 1)[0]),\n",
        "    data_df.loc[i, 'proyecto_1'] = str(np.random.choice(data['proyecto_1'], 1)[0]),\n",
        "    data_df.loc[i, 'nombre'] = i\n",
        "data_df.head()"
      ]
    },
    {
      "cell_type": "code",
      "execution_count": 52,
      "metadata": {},
      "outputs": [
        {
          "output_type": "error",
          "ename": "AttributeError",
          "evalue": "'list' object has no attribute 'astype'",
          "traceback": [
            "\u001b[0;31m---------------------------------------------------------------------------\u001b[0m",
            "\u001b[0;31mAttributeError\u001b[0m                            Traceback (most recent call last)",
            "\u001b[0;32m<ipython-input-52-3a2ce5e6d46c>\u001b[0m in \u001b[0;36m<module>\u001b[0;34m\u001b[0m\n\u001b[1;32m      1\u001b[0m \u001b[0mcategorias\u001b[0m \u001b[0;34m=\u001b[0m \u001b[0mlist\u001b[0m\u001b[0;34m(\u001b[0m\u001b[0mdata\u001b[0m\u001b[0;34m.\u001b[0m\u001b[0mkeys\u001b[0m\u001b[0;34m(\u001b[0m\u001b[0;34m)\u001b[0m\u001b[0;34m)\u001b[0m\u001b[0;34m\u001b[0m\u001b[0;34m\u001b[0m\u001b[0m\n\u001b[0;32m----> 2\u001b[0;31m \u001b[0mcategorias\u001b[0m \u001b[0;34m=\u001b[0m \u001b[0mcategorias\u001b[0m\u001b[0;34m.\u001b[0m\u001b[0mastype\u001b[0m\u001b[0;34m(\u001b[0m\u001b[0mnp\u001b[0m\u001b[0;34m.\u001b[0m\u001b[0mfloat64\u001b[0m\u001b[0;34m)\u001b[0m\u001b[0;34m\u001b[0m\u001b[0;34m\u001b[0m\u001b[0m\n\u001b[0m",
            "\u001b[0;31mAttributeError\u001b[0m: 'list' object has no attribute 'astype'"
          ]
        }
      ],
      "source": [
        "categorias = list(data.keys())\n",
        "categorias = categorias.astype(np.float64)"
      ]
    },
    {
      "cell_type": "code",
      "execution_count": 32,
      "metadata": {},
      "outputs": [],
      "source": [
        "data_df['color_de_pelo'] = data_df['color_de_pelo'].astype(str).str.replace(r\"\\(|\\)|,|'\", '')\n",
        "data_df['estilo_de_pelo'] = data_df['estilo_de_pelo'].astype(str).str.replace(r\"\\(|\\)|,|'\", '')\n",
        "data_df['lentes'] = data_df['lentes'].astype(str).str.replace(r\"\\(|\\)|,|'\", '')\n",
        "data_df['numero_de_nombres'] = data_df['numero_de_nombres'].astype(str).str.replace(r\"\\(|\\)|,|'\", '')\n",
        "data_df['proyecto_1'] = data_df['proyecto_1'].astype(str).str.replace(r\"\\(|\\)|,|'\", '')"
      ]
    },
    {
      "cell_type": "code",
      "execution_count": 33,
      "metadata": {},
      "outputs": [
        {
          "output_type": "execute_result",
          "data": {
            "text/plain": [
              "  carrera semestre genero color_de_pelo estilo_de_pelo lentes  \\\n",
              "0     Mat        8      H         Rubio          Chino     No   \n",
              "1     Mat        6      H         Rubio          Chino     Sí   \n",
              "2    Meca        7      M         Negro          Largo     No   \n",
              "3     Neg        6      M         Negro          Corto     No   \n",
              "4    Comp        8      H         Negro          Chino     Sí   \n",
              "\n",
              "  numero_de_nombres proyecto_1 nombre  \n",
              "0                 1     Puzzle      0  \n",
              "1                 2     Puzzle      1  \n",
              "2                 2        GPS      2  \n",
              "3                 2        GPS      3  \n",
              "4                 1        GPS      4  "
            ],
            "text/html": "<div>\n<style scoped>\n    .dataframe tbody tr th:only-of-type {\n        vertical-align: middle;\n    }\n\n    .dataframe tbody tr th {\n        vertical-align: top;\n    }\n\n    .dataframe thead th {\n        text-align: right;\n    }\n</style>\n<table border=\"1\" class=\"dataframe\">\n  <thead>\n    <tr style=\"text-align: right;\">\n      <th></th>\n      <th>carrera</th>\n      <th>semestre</th>\n      <th>genero</th>\n      <th>color_de_pelo</th>\n      <th>estilo_de_pelo</th>\n      <th>lentes</th>\n      <th>numero_de_nombres</th>\n      <th>proyecto_1</th>\n      <th>nombre</th>\n    </tr>\n  </thead>\n  <tbody>\n    <tr>\n      <th>0</th>\n      <td>Mat</td>\n      <td>8</td>\n      <td>H</td>\n      <td>Rubio</td>\n      <td>Chino</td>\n      <td>No</td>\n      <td>1</td>\n      <td>Puzzle</td>\n      <td>0</td>\n    </tr>\n    <tr>\n      <th>1</th>\n      <td>Mat</td>\n      <td>6</td>\n      <td>H</td>\n      <td>Rubio</td>\n      <td>Chino</td>\n      <td>Sí</td>\n      <td>2</td>\n      <td>Puzzle</td>\n      <td>1</td>\n    </tr>\n    <tr>\n      <th>2</th>\n      <td>Meca</td>\n      <td>7</td>\n      <td>M</td>\n      <td>Negro</td>\n      <td>Largo</td>\n      <td>No</td>\n      <td>2</td>\n      <td>GPS</td>\n      <td>2</td>\n    </tr>\n    <tr>\n      <th>3</th>\n      <td>Neg</td>\n      <td>6</td>\n      <td>M</td>\n      <td>Negro</td>\n      <td>Corto</td>\n      <td>No</td>\n      <td>2</td>\n      <td>GPS</td>\n      <td>3</td>\n    </tr>\n    <tr>\n      <th>4</th>\n      <td>Comp</td>\n      <td>8</td>\n      <td>H</td>\n      <td>Negro</td>\n      <td>Chino</td>\n      <td>Sí</td>\n      <td>1</td>\n      <td>GPS</td>\n      <td>4</td>\n    </tr>\n  </tbody>\n</table>\n</div>"
          },
          "metadata": {},
          "execution_count": 33
        }
      ],
      "source": [
        "data_df.head()"
      ]
    },
    {
      "cell_type": "code",
      "execution_count": 38,
      "metadata": {},
      "outputs": [
        {
          "output_type": "execute_result",
          "data": {
            "text/plain": [
              "  carrera semestre genero color_de_pelo estilo_de_pelo lentes  \\\n",
              "0     Mat        8      H         Rubio          Chino     No   \n",
              "1     Mat        6      H         Rubio          Chino     Sí   \n",
              "2    Meca        7      M         Negro          Largo     No   \n",
              "3     Neg        6      M         Negro          Corto     No   \n",
              "4    Comp        8      H         Negro          Chino     Sí   \n",
              "\n",
              "  numero_de_nombres proyecto_1  \n",
              "0                 1     Puzzle  \n",
              "1                 2     Puzzle  \n",
              "2                 2        GPS  \n",
              "3                 2        GPS  \n",
              "4                 1        GPS  "
            ],
            "text/html": "<div>\n<style scoped>\n    .dataframe tbody tr th:only-of-type {\n        vertical-align: middle;\n    }\n\n    .dataframe tbody tr th {\n        vertical-align: top;\n    }\n\n    .dataframe thead th {\n        text-align: right;\n    }\n</style>\n<table border=\"1\" class=\"dataframe\">\n  <thead>\n    <tr style=\"text-align: right;\">\n      <th></th>\n      <th>carrera</th>\n      <th>semestre</th>\n      <th>genero</th>\n      <th>color_de_pelo</th>\n      <th>estilo_de_pelo</th>\n      <th>lentes</th>\n      <th>numero_de_nombres</th>\n      <th>proyecto_1</th>\n    </tr>\n  </thead>\n  <tbody>\n    <tr>\n      <th>0</th>\n      <td>Mat</td>\n      <td>8</td>\n      <td>H</td>\n      <td>Rubio</td>\n      <td>Chino</td>\n      <td>No</td>\n      <td>1</td>\n      <td>Puzzle</td>\n    </tr>\n    <tr>\n      <th>1</th>\n      <td>Mat</td>\n      <td>6</td>\n      <td>H</td>\n      <td>Rubio</td>\n      <td>Chino</td>\n      <td>Sí</td>\n      <td>2</td>\n      <td>Puzzle</td>\n    </tr>\n    <tr>\n      <th>2</th>\n      <td>Meca</td>\n      <td>7</td>\n      <td>M</td>\n      <td>Negro</td>\n      <td>Largo</td>\n      <td>No</td>\n      <td>2</td>\n      <td>GPS</td>\n    </tr>\n    <tr>\n      <th>3</th>\n      <td>Neg</td>\n      <td>6</td>\n      <td>M</td>\n      <td>Negro</td>\n      <td>Corto</td>\n      <td>No</td>\n      <td>2</td>\n      <td>GPS</td>\n    </tr>\n    <tr>\n      <th>4</th>\n      <td>Comp</td>\n      <td>8</td>\n      <td>H</td>\n      <td>Negro</td>\n      <td>Chino</td>\n      <td>Sí</td>\n      <td>1</td>\n      <td>GPS</td>\n    </tr>\n  </tbody>\n</table>\n</div>"
          },
          "metadata": {},
          "execution_count": 38
        }
      ],
      "source": [
        "data_df.drop('nombre', axis=1).head()"
      ]
    },
    {
      "cell_type": "code",
      "execution_count": 40,
      "metadata": {},
      "outputs": [
        {
          "output_type": "execute_result",
          "data": {
            "text/plain": [
              "0    0\n",
              "1    1\n",
              "2    2\n",
              "3    3\n",
              "4    4\n",
              "Name: nombre, dtype: object"
            ]
          },
          "metadata": {},
          "execution_count": 40
        }
      ],
      "source": [
        "data_df['nombre'].head()"
      ]
    },
    {
      "cell_type": "code",
      "execution_count": 46,
      "metadata": {},
      "outputs": [
        {
          "output_type": "error",
          "ename": "ValueError",
          "evalue": "could not convert string to float: 'Mat'",
          "traceback": [
            "\u001b[0;31m---------------------------------------------------------------------------\u001b[0m",
            "\u001b[0;31mValueError\u001b[0m                                Traceback (most recent call last)",
            "\u001b[0;32m<ipython-input-46-8f22f4fc5fae>\u001b[0m in \u001b[0;36m<module>\u001b[0;34m\u001b[0m\n\u001b[1;32m      1\u001b[0m \u001b[0mestimador\u001b[0m \u001b[0;34m=\u001b[0m \u001b[0mId3Estimator\u001b[0m\u001b[0;34m(\u001b[0m\u001b[0;34m)\u001b[0m\u001b[0;34m\u001b[0m\u001b[0;34m\u001b[0m\u001b[0m\n\u001b[0;32m----> 2\u001b[0;31m \u001b[0mestimador\u001b[0m\u001b[0;34m.\u001b[0m\u001b[0mfit\u001b[0m\u001b[0;34m(\u001b[0m\u001b[0mdata_df\u001b[0m\u001b[0;34m.\u001b[0m\u001b[0mdrop\u001b[0m\u001b[0;34m(\u001b[0m\u001b[0;34m'nombre'\u001b[0m\u001b[0;34m,\u001b[0m \u001b[0maxis\u001b[0m\u001b[0;34m=\u001b[0m\u001b[0;36m1\u001b[0m\u001b[0;34m)\u001b[0m\u001b[0;34m,\u001b[0m \u001b[0mdata_df\u001b[0m\u001b[0;34m[\u001b[0m\u001b[0;34m'nombre'\u001b[0m\u001b[0;34m]\u001b[0m\u001b[0;34m,\u001b[0m \u001b[0mcheck_input\u001b[0m\u001b[0;34m=\u001b[0m\u001b[0;32mTrue\u001b[0m\u001b[0;34m)\u001b[0m\u001b[0;34m\u001b[0m\u001b[0;34m\u001b[0m\u001b[0m\n\u001b[0m\u001b[1;32m      3\u001b[0m \u001b[0;34m\u001b[0m\u001b[0m\n\u001b[1;32m      4\u001b[0m \u001b[0mexport_graphviz\u001b[0m\u001b[0;34m(\u001b[0m\u001b[0mestimador\u001b[0m\u001b[0;34m.\u001b[0m\u001b[0mtree_\u001b[0m\u001b[0;34m,\u001b[0m \u001b[0;34m\"arbol.dot\"\u001b[0m\u001b[0;34m,\u001b[0m \u001b[0mlist\u001b[0m\u001b[0;34m(\u001b[0m\u001b[0mdata\u001b[0m\u001b[0;34m.\u001b[0m\u001b[0mkeys\u001b[0m\u001b[0;34m(\u001b[0m\u001b[0;34m)\u001b[0m\u001b[0;34m)\u001b[0m\u001b[0;34m)\u001b[0m\u001b[0;34m\u001b[0m\u001b[0;34m\u001b[0m\u001b[0m\n",
            "\u001b[0;32m~/anaconda3/lib/python3.7/site-packages/id3/id3.py\u001b[0m in \u001b[0;36mfit\u001b[0;34m(self, X, y, check_input)\u001b[0m\n\u001b[1;32m     90\u001b[0m             \u001b[0mReturns\u001b[0m \u001b[0mself\u001b[0m\u001b[0;34m.\u001b[0m\u001b[0;34m\u001b[0m\u001b[0;34m\u001b[0m\u001b[0m\n\u001b[1;32m     91\u001b[0m         \"\"\"\n\u001b[0;32m---> 92\u001b[0;31m         \u001b[0mX_\u001b[0m\u001b[0;34m,\u001b[0m \u001b[0my_\u001b[0m \u001b[0;34m=\u001b[0m \u001b[0mcheck_X_y\u001b[0m\u001b[0;34m(\u001b[0m\u001b[0mX\u001b[0m\u001b[0;34m,\u001b[0m \u001b[0my\u001b[0m\u001b[0;34m)\u001b[0m\u001b[0;34m\u001b[0m\u001b[0;34m\u001b[0m\u001b[0m\n\u001b[0m\u001b[1;32m     93\u001b[0m         \u001b[0mself\u001b[0m\u001b[0;34m.\u001b[0m\u001b[0my_encoder\u001b[0m \u001b[0;34m=\u001b[0m \u001b[0mExtendedLabelEncoder\u001b[0m\u001b[0;34m(\u001b[0m\u001b[0;34m)\u001b[0m\u001b[0;34m\u001b[0m\u001b[0;34m\u001b[0m\u001b[0m\n\u001b[1;32m     94\u001b[0m         \u001b[0my_\u001b[0m \u001b[0;34m=\u001b[0m \u001b[0mself\u001b[0m\u001b[0;34m.\u001b[0m\u001b[0my_encoder\u001b[0m\u001b[0;34m.\u001b[0m\u001b[0mfit_transform\u001b[0m\u001b[0;34m(\u001b[0m\u001b[0my_\u001b[0m\u001b[0;34m)\u001b[0m\u001b[0;34m\u001b[0m\u001b[0;34m\u001b[0m\u001b[0m\n",
            "\u001b[0;32m~/anaconda3/lib/python3.7/site-packages/sklearn/utils/validation.py\u001b[0m in \u001b[0;36mcheck_X_y\u001b[0;34m(X, y, accept_sparse, accept_large_sparse, dtype, order, copy, force_all_finite, ensure_2d, allow_nd, multi_output, ensure_min_samples, ensure_min_features, y_numeric, warn_on_dtype, estimator)\u001b[0m\n\u001b[1;32m    754\u001b[0m                     \u001b[0mensure_min_features\u001b[0m\u001b[0;34m=\u001b[0m\u001b[0mensure_min_features\u001b[0m\u001b[0;34m,\u001b[0m\u001b[0;34m\u001b[0m\u001b[0;34m\u001b[0m\u001b[0m\n\u001b[1;32m    755\u001b[0m                     \u001b[0mwarn_on_dtype\u001b[0m\u001b[0;34m=\u001b[0m\u001b[0mwarn_on_dtype\u001b[0m\u001b[0;34m,\u001b[0m\u001b[0;34m\u001b[0m\u001b[0;34m\u001b[0m\u001b[0m\n\u001b[0;32m--> 756\u001b[0;31m                     estimator=estimator)\n\u001b[0m\u001b[1;32m    757\u001b[0m     \u001b[0;32mif\u001b[0m \u001b[0mmulti_output\u001b[0m\u001b[0;34m:\u001b[0m\u001b[0;34m\u001b[0m\u001b[0;34m\u001b[0m\u001b[0m\n\u001b[1;32m    758\u001b[0m         y = check_array(y, 'csr', force_all_finite=True, ensure_2d=False,\n",
            "\u001b[0;32m~/anaconda3/lib/python3.7/site-packages/sklearn/utils/validation.py\u001b[0m in \u001b[0;36mcheck_array\u001b[0;34m(array, accept_sparse, accept_large_sparse, dtype, order, copy, force_all_finite, ensure_2d, allow_nd, ensure_min_samples, ensure_min_features, warn_on_dtype, estimator)\u001b[0m\n\u001b[1;32m    565\u001b[0m         \u001b[0;31m# make sure we actually converted to numeric:\u001b[0m\u001b[0;34m\u001b[0m\u001b[0;34m\u001b[0m\u001b[0;34m\u001b[0m\u001b[0m\n\u001b[1;32m    566\u001b[0m         \u001b[0;32mif\u001b[0m \u001b[0mdtype_numeric\u001b[0m \u001b[0;32mand\u001b[0m \u001b[0marray\u001b[0m\u001b[0;34m.\u001b[0m\u001b[0mdtype\u001b[0m\u001b[0;34m.\u001b[0m\u001b[0mkind\u001b[0m \u001b[0;34m==\u001b[0m \u001b[0;34m\"O\"\u001b[0m\u001b[0;34m:\u001b[0m\u001b[0;34m\u001b[0m\u001b[0;34m\u001b[0m\u001b[0m\n\u001b[0;32m--> 567\u001b[0;31m             \u001b[0marray\u001b[0m \u001b[0;34m=\u001b[0m \u001b[0marray\u001b[0m\u001b[0;34m.\u001b[0m\u001b[0mastype\u001b[0m\u001b[0;34m(\u001b[0m\u001b[0mnp\u001b[0m\u001b[0;34m.\u001b[0m\u001b[0mfloat64\u001b[0m\u001b[0;34m)\u001b[0m\u001b[0;34m\u001b[0m\u001b[0;34m\u001b[0m\u001b[0m\n\u001b[0m\u001b[1;32m    568\u001b[0m         \u001b[0;32mif\u001b[0m \u001b[0;32mnot\u001b[0m \u001b[0mallow_nd\u001b[0m \u001b[0;32mand\u001b[0m \u001b[0marray\u001b[0m\u001b[0;34m.\u001b[0m\u001b[0mndim\u001b[0m \u001b[0;34m>=\u001b[0m \u001b[0;36m3\u001b[0m\u001b[0;34m:\u001b[0m\u001b[0;34m\u001b[0m\u001b[0;34m\u001b[0m\u001b[0m\n\u001b[1;32m    569\u001b[0m             raise ValueError(\"Found array with dim %d. %s expected <= 2.\"\n",
            "\u001b[0;31mValueError\u001b[0m: could not convert string to float: 'Mat'"
          ]
        }
      ],
      "source": [
        "estimador = Id3Estimator()\n",
        "estimador.fit(data_df.drop('nombre', axis=1), data_df['nombre'], check_input=True)\n",
        "\n",
        "export_graphviz(estimador.tree_, \"arbol.dot\", list(data.keys()))"
      ]
    },
    {
      "cell_type": "code",
      "execution_count": null,
      "metadata": {},
      "outputs": [],
      "source": []
    }
  ],
  "metadata": {
    "kernelspec": {
      "name": "python373jvsc74a57bd014ea72af40ee9339d6f8ad15aef067494a451ba105d6a0c8fbc9d65e956b1bca",
      "display_name": "Python 3.7.3 64-bit ('base': conda)"
    },
    "language_info": {
      "mimetype": "text/x-python",
      "nbconvert_exporter": "python",
      "name": "python",
      "file_extension": ".py",
      "version": "3.7.3",
      "pygments_lexer": "ipython2",
      "codemirror_mode": {
        "version": 2,
        "name": "ipython"
      }
    }
  }
}