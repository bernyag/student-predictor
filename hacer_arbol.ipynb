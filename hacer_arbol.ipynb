{
  "nbformat_minor": 0,
  "nbformat": 4,
  "cells": [
    {
      "source": [
        "\n",
        "# Método importando .CSV\n",
        "\n",
        "# Comando para convertir PDF\n",
        "$ dot -T pdf arbol.dot -o arbol.pdf"
      ],
      "cell_type": "markdown",
      "metadata": {}
    },
    {
      "cell_type": "code",
      "execution_count": 4,
      "metadata": {},
      "outputs": [],
      "source": [
        "from id3 import Id3Estimator, export_graphviz, export_text\n",
        "import numpy as np\n",
        "import pandas as pd\n",
        "from sklearn import preprocessing\n",
        "from sklearn.preprocessing import OneHotEncoder, LabelEncoder\n",
        "from collections import defaultdict "
      ]
    },
    {
      "cell_type": "code",
      "execution_count": 5,
      "metadata": {},
      "outputs": [
        {
          "output_type": "stream",
          "name": "stdout",
          "text": [
            "(23, 8)\n"
          ]
        },
        {
          "output_type": "execute_result",
          "data": {
            "text/plain": [
              "                              Nombre                             Carrera/s  \\\n",
              "0          LUIS FERNANDO MENDEZ CRUZ                           Mecatrónica   \n",
              "1                 MARIO GALVEZ LOPEZ                           Mecatrónica   \n",
              "2          ZARA MARIA UBALDO GALICIA                        Mat. Aplicadas   \n",
              "3         BERNARDO ALTAMIRANO GARCIA                   Ing. en Computación   \n",
              "4  FRANCISCO JAVIER ARAMBURU ALVAREZ  Ing, en Computación y Mat. Aplicadas   \n",
              "\n",
              "  Ing. En Compu? Semestre Genero Lentes Nombre.1 Proyecto 2  \n",
              "0             No       10      M     No        2      Damas  \n",
              "1             No       10      M     No        1      Damas  \n",
              "2             No       10      F     Si        2      Damas  \n",
              "3             Si        9      M     No        1      Damas  \n",
              "4             Si        9      M     Si        2      Damas  "
            ],
            "text/html": "<div>\n<style scoped>\n    .dataframe tbody tr th:only-of-type {\n        vertical-align: middle;\n    }\n\n    .dataframe tbody tr th {\n        vertical-align: top;\n    }\n\n    .dataframe thead th {\n        text-align: right;\n    }\n</style>\n<table border=\"1\" class=\"dataframe\">\n  <thead>\n    <tr style=\"text-align: right;\">\n      <th></th>\n      <th>Nombre</th>\n      <th>Carrera/s</th>\n      <th>Ing. En Compu?</th>\n      <th>Semestre</th>\n      <th>Genero</th>\n      <th>Lentes</th>\n      <th>Nombre.1</th>\n      <th>Proyecto 2</th>\n    </tr>\n  </thead>\n  <tbody>\n    <tr>\n      <th>0</th>\n      <td>LUIS FERNANDO MENDEZ CRUZ</td>\n      <td>Mecatrónica</td>\n      <td>No</td>\n      <td>10</td>\n      <td>M</td>\n      <td>No</td>\n      <td>2</td>\n      <td>Damas</td>\n    </tr>\n    <tr>\n      <th>1</th>\n      <td>MARIO GALVEZ LOPEZ</td>\n      <td>Mecatrónica</td>\n      <td>No</td>\n      <td>10</td>\n      <td>M</td>\n      <td>No</td>\n      <td>1</td>\n      <td>Damas</td>\n    </tr>\n    <tr>\n      <th>2</th>\n      <td>ZARA MARIA UBALDO GALICIA</td>\n      <td>Mat. Aplicadas</td>\n      <td>No</td>\n      <td>10</td>\n      <td>F</td>\n      <td>Si</td>\n      <td>2</td>\n      <td>Damas</td>\n    </tr>\n    <tr>\n      <th>3</th>\n      <td>BERNARDO ALTAMIRANO GARCIA</td>\n      <td>Ing. en Computación</td>\n      <td>Si</td>\n      <td>9</td>\n      <td>M</td>\n      <td>No</td>\n      <td>1</td>\n      <td>Damas</td>\n    </tr>\n    <tr>\n      <th>4</th>\n      <td>FRANCISCO JAVIER ARAMBURU ALVAREZ</td>\n      <td>Ing, en Computación y Mat. Aplicadas</td>\n      <td>Si</td>\n      <td>9</td>\n      <td>M</td>\n      <td>Si</td>\n      <td>2</td>\n      <td>Damas</td>\n    </tr>\n  </tbody>\n</table>\n</div>"
          },
          "metadata": {},
          "execution_count": 5
        }
      ],
      "source": [
        "# create a dataframe\n",
        "data_df = pd.read_csv('alumnos.csv', dtype = 'str')\n",
        "print(data_df.shape)\n",
        "data_df.head()"
      ]
    },
    {
      "cell_type": "code",
      "execution_count": 6,
      "metadata": {},
      "outputs": [
        {
          "output_type": "stream",
          "name": "stdout",
          "text": [
            "  Ing. En Compu? Semestre Genero Lentes Nombre.1 Proyecto 2\n0             No       10      M     No        2      Damas\n1             No       10      M     No        1      Damas\n2             No       10      F     Si        2      Damas\n0    LUIS FERNANDO MENDEZ CRUZ\n1           MARIO GALVEZ LOPEZ\n2    ZARA MARIA UBALDO GALICIA\nName: Nombre, dtype: object\n"
          ]
        }
      ],
      "source": [
        "x = data_df.drop(['Nombre','Carrera/s'], axis=1)\n",
        "print(x.head(3))\n",
        "y = data_df['Nombre']\n",
        "print(y.head(3))"
      ]
    },
    {
      "cell_type": "code",
      "execution_count": 7,
      "metadata": {},
      "outputs": [
        {
          "output_type": "stream",
          "name": "stdout",
          "text": [
            "['No', 'Si', '10', '9', '8', '7', '6', '5', '4', 'M', 'F', 'No', 'Si', '2', '1', 'Damas', 'Ajedrez', 'Conecta 4']\n"
          ]
        }
      ],
      "source": [
        "values = []\n",
        "for col in x:\n",
        "    for val in x[col].unique():\n",
        "        values.append(val)\n",
        "print(values)"
      ]
    },
    {
      "cell_type": "code",
      "execution_count": 8,
      "metadata": {},
      "outputs": [
        {
          "output_type": "execute_result",
          "data": {
            "text/plain": [
              "  Ing. En Compu? Semestre Genero Lentes Nombre.1 Proyecto 2\n",
              "0             No       10      M     No        2      Damas\n",
              "1             No       10      M     No        1      Damas\n",
              "2             No       10      F     Si        2      Damas"
            ],
            "text/html": "<div>\n<style scoped>\n    .dataframe tbody tr th:only-of-type {\n        vertical-align: middle;\n    }\n\n    .dataframe tbody tr th {\n        vertical-align: top;\n    }\n\n    .dataframe thead th {\n        text-align: right;\n    }\n</style>\n<table border=\"1\" class=\"dataframe\">\n  <thead>\n    <tr style=\"text-align: right;\">\n      <th></th>\n      <th>Ing. En Compu?</th>\n      <th>Semestre</th>\n      <th>Genero</th>\n      <th>Lentes</th>\n      <th>Nombre.1</th>\n      <th>Proyecto 2</th>\n    </tr>\n  </thead>\n  <tbody>\n    <tr>\n      <th>0</th>\n      <td>No</td>\n      <td>10</td>\n      <td>M</td>\n      <td>No</td>\n      <td>2</td>\n      <td>Damas</td>\n    </tr>\n    <tr>\n      <th>1</th>\n      <td>No</td>\n      <td>10</td>\n      <td>M</td>\n      <td>No</td>\n      <td>1</td>\n      <td>Damas</td>\n    </tr>\n    <tr>\n      <th>2</th>\n      <td>No</td>\n      <td>10</td>\n      <td>F</td>\n      <td>Si</td>\n      <td>2</td>\n      <td>Damas</td>\n    </tr>\n  </tbody>\n</table>\n</div>"
          },
          "metadata": {},
          "execution_count": 8
        }
      ],
      "source": [
        "x.head(3)\n"
      ]
    },
    {
      "cell_type": "code",
      "execution_count": 9,
      "metadata": {},
      "outputs": [
        {
          "output_type": "stream",
          "name": "stdout",
          "text": [
            "  Ing. En Compu? Semestre Genero Lentes Nombre.1 Proyecto 2\n0             No       10      M     No        2      Damas\n1             No       10      M     No        1      Damas\n2             No       10      F     Si        2      Damas\n3             Si        9      M     No        1      Damas\n4             Si        9      M     Si        2      Damas\n"
          ]
        },
        {
          "output_type": "execute_result",
          "data": {
            "text/plain": [
              "   Ing. En Compu?  Semestre  Genero  Lentes  Nombre.1  Proyecto 2\n",
              "0               0         0       1       0         1           2\n",
              "1               0         0       1       0         0           2\n",
              "2               0         0       0       1         1           2\n",
              "3               1         6       1       0         0           2\n",
              "4               1         6       1       1         1           2"
            ],
            "text/html": "<div>\n<style scoped>\n    .dataframe tbody tr th:only-of-type {\n        vertical-align: middle;\n    }\n\n    .dataframe tbody tr th {\n        vertical-align: top;\n    }\n\n    .dataframe thead th {\n        text-align: right;\n    }\n</style>\n<table border=\"1\" class=\"dataframe\">\n  <thead>\n    <tr style=\"text-align: right;\">\n      <th></th>\n      <th>Ing. En Compu?</th>\n      <th>Semestre</th>\n      <th>Genero</th>\n      <th>Lentes</th>\n      <th>Nombre.1</th>\n      <th>Proyecto 2</th>\n    </tr>\n  </thead>\n  <tbody>\n    <tr>\n      <th>0</th>\n      <td>0</td>\n      <td>0</td>\n      <td>1</td>\n      <td>0</td>\n      <td>1</td>\n      <td>2</td>\n    </tr>\n    <tr>\n      <th>1</th>\n      <td>0</td>\n      <td>0</td>\n      <td>1</td>\n      <td>0</td>\n      <td>0</td>\n      <td>2</td>\n    </tr>\n    <tr>\n      <th>2</th>\n      <td>0</td>\n      <td>0</td>\n      <td>0</td>\n      <td>1</td>\n      <td>1</td>\n      <td>2</td>\n    </tr>\n    <tr>\n      <th>3</th>\n      <td>1</td>\n      <td>6</td>\n      <td>1</td>\n      <td>0</td>\n      <td>0</td>\n      <td>2</td>\n    </tr>\n    <tr>\n      <th>4</th>\n      <td>1</td>\n      <td>6</td>\n      <td>1</td>\n      <td>1</td>\n      <td>1</td>\n      <td>2</td>\n    </tr>\n  </tbody>\n</table>\n</div>"
          },
          "metadata": {},
          "execution_count": 9
        }
      ],
      "source": [
        "encoded_x = x.apply(LabelEncoder().fit_transform)\n",
        "print(x.head())\n",
        "encoded_x.head()"
      ]
    },
    {
      "cell_type": "code",
      "execution_count": 10,
      "metadata": {},
      "outputs": [
        {
          "output_type": "stream",
          "name": "stdout",
          "text": [
            "\nIng. En Compu? <=0.50\n|   Semestre <=2.50\n|   |   Genero <=0.50: ZARA MARIA UBALDO GALICIA (1) \n|   |   Genero >0.50\n|   |   |   Nombre.1 <=0.50: MARIO GALVEZ LOPEZ (1) \n|   |   |   Nombre.1 >0.50: GUILLERMO JORGE NARANJO MUEDANO (1/2) \n|   Semestre >2.50\n|   |   Lentes <=0.50\n|   |   |   Nombre.1 <=0.50\n|   |   |   |   Proyecto 2 <=1.00: MAURICIO MARTINEZ RIEDE (1) \n|   |   |   |   Proyecto 2 >1.00: ANTONINO GARCIA OCEJO (1/1) \n|   |   |   Nombre.1 >0.50: SILVESTRE LEONARDO GONZALEZ ABREU (1) \n|   |   Lentes >0.50\n|   |   |   Nombre.1 <=0.50: IAN ZAIDENWEBER DORENBAUM (1) \n|   |   |   Nombre.1 >0.50\n|   |   |   |   Proyecto 2 <=0.50: LUIS ANDRES GOMEZ MARTINEZ (1) \n|   |   |   |   Proyecto 2 >0.50: JOSE FRANCISCO GARDUÑO SUCHIL (1) \nIng. En Compu? >0.50\n|   Semestre <=3.50\n|   |   Nombre.1 <=0.50\n|   |   |   Genero <=0.50: NATALIA HERNANDEZ CORNEJO (1/1) \n|   |   |   Genero >0.50\n|   |   |   |   Proyecto 2 <=1.50: MARIANO FRANCO GOMEZ (1) \n|   |   |   |   Proyecto 2 >1.50: ALEXANDER PERELMAN ARCQ (1) \n|   |   Nombre.1 >0.50\n|   |   |   Lentes <=0.50: CARLOS ALBERTO DELGADO ELIZONDO (1/1) \n|   |   |   Lentes >0.50: ANDRES MIGUEL QUEVEDO (1) \n|   Semestre >3.50\n|   |   Lentes <=0.50\n|   |   |   Genero <=0.50: ANDREA DE ANDA KURI (1) \n|   |   |   Genero >0.50: BERNARDO ALTAMIRANO GARCIA (1) \n|   |   Lentes >0.50\n|   |   |   Nombre.1 <=0.50: DIEGO HERNANDEZ DELGADO (1) \n|   |   |   Nombre.1 >0.50: FRANCISCO JAVIER ARAMBURU ALVAREZ (1) \n\n"
          ]
        },
        {
          "output_type": "execute_result",
          "data": {
            "text/plain": [
              "<_io.TextIOWrapper name='arbol-csv.dot' mode='w' encoding='utf8'>"
            ]
          },
          "metadata": {},
          "execution_count": 10
        }
      ],
      "source": [
        "estimador = Id3Estimator()\n",
        "estimador.fit(encoded_x, y, check_input=True)\n",
        "\n",
        "print(export_text(estimador.tree_, list(encoded_x.keys())))\n",
        "export_graphviz(estimador.tree_, \"arbol-csv.dot\", list(encoded_x.keys()))"
      ]
    },
    {
      "source": [
        "\n",
        "# Método Manual"
      ],
      "cell_type": "markdown",
      "metadata": {}
    },
    {
      "source": [
        "Árbol  con carreras"
      ],
      "cell_type": "markdown",
      "metadata": {}
    },
    {
      "cell_type": "code",
      "execution_count": 13,
      "metadata": {},
      "outputs": [
        {
          "output_type": "stream",
          "name": "stdout",
          "text": [
            "<U34\n<U37\n"
          ]
        }
      ],
      "source": [
        "categorias = [\"Carrera\",\"Semestre\",\"Genero\",\"Lentes\",\"Nombres\",\"Proyecto 2\"]\n",
        "\n",
        "arr_x = np.array([\n",
        "    [\"Mecatrónica\",\"No\",\"10\",\"M\",\"No\",\"2\",\"Damas\"],\n",
        "    [\"Mecatrónica\",\"No\",\"10\",\"M\",\"No\",\"1\",\"Damas\"],\n",
        "    [\"Mat. Aplicadas\",\"No\",\"10\",\"F\",\"Si\",\"2\",\"Damas\"],\n",
        "    [\"Ing. en Computación\",\"Si\",\"9\",\"M\",\"No\",\"1\",\"Damas\"],\n",
        "    [\"Ing, en Computación y Mat. Aplicadas\",\"Si\",\"9\",\"M\",\"Si\",\"2\",\"Damas\"],\n",
        "    [\"Mecatrónica\",\"No\",\"8\",\"M\",\"Si\",\"2\",\"Ajedrez\"],\n",
        "    [\"Ing. Industrial y Mecatrónica\",\"No\",\"8\",\"M\",\"No\",\"2\",\"Damas\"],\n",
        "    [\"Ing. en Computación e Ing. Industrial\",\"Si\",\"8\",\"F\",\"No\",\"1\",\"Damas\"],\n",
        "    [\"Ing. en Negocios\",\"No\",\"8\",\"M\",\"Si\",\"1\",\"Damas\"],\n",
        "    [\"Ing. en Negocios\",\"No\",\"8\",\"M\",\"No\",\"1\",\"Damas\"],\n",
        "    [\"Mecatrónica\",\"No\",\"8\",\"M\",\"No\",\"1\",\"Ajedrez\"],\n",
        "    [\"Ing, en Computación y Mecatrónica\",\"Si\",\"7\",\"M\",\"Si\",\"1\",\"Conecta 4\"],\n",
        "    [\"Ing, en Computación y Mat. Aplicadas\",\"Si\",\"6\",\"F\",\"Si\",\"1\",\"Conecta 4\"],\n",
        "    [\"Ing. en Negocios\",\"No\",\"6\",\"M\",\"No\",\"1\",\"Damas\"],\n",
        "    [\"Ing. en Computación y Mecatrónica\",\"Si\",\"6\",\"M\",\"No\",\"2\",\"Conecta 4\"],\n",
        "    [\"Ing, en Computación y Mat. Aplicadas\",\"Si\",\"6\",\"M\",\"Si\",\"1\",\"Conecta 4\"],\n",
        "    [\"Ing, en Computación y Mat. Aplicadas\",\"Si\",\"6\",\"M\",\"Si\",\"2\",\"Conecta 4\"],\n",
        "    [\"Mat. Aplicadas\",\"No\",\"6\",\"M\",\"Si\",\"2\",\"Conecta 4\"],\n",
        "    [\"Ing. en Computación\",\"Si\",\"6\",\"M\",\"No\",\"2\",\"Conecta 4\"],\n",
        "    [\"Ing. en Computación y Mat. Aplicadas\",\"Si\",\"6\",\"F\",\"Si\",\"1\",\"Conecta 4\"],\n",
        "    [\"Mat. Aplicadas\",\"No\",\"5\",\"M\",\"No\",\"2\",\"Damas\"],\n",
        "    [\"Ing. en Computación y Economía\",\"Si\",\"5\",\"M\",\"Si\",\"1\",\"Damas\"],\n",
        "    [\"Ciencia de Datos\",\"No\",\"4\",\"M\",\"No\",\"2\",\"Damas\"]\n",
        "])\n",
        "\n",
        "arr_y = np.array([\n",
        "    \"LUIS FERNANDO MENDEZ CRUZ\",\n",
        "    \"MARIO GALVEZ LOPEZ\",\n",
        "    \"ZARA MARIA UBALDO GALICIA\",\n",
        "    \"BERNARDO ALTAMIRANO GARCIA\",\n",
        "    \"FRANCISCO JAVIER ARAMBURU ALVAREZ\",\n",
        "    \"LUIS ANDRES GOMEZ MARTINEZ\",\n",
        "    \"SILVESTRE LEONARDO GONZALEZ ABREU\",\n",
        "    \"ANDREA DE ANDA KURI\",\n",
        "    \"IAN ZAIDENWEBER DORENBAUM\",\n",
        "    \"EDUARDO PESQUEIRA ZORRILLA\",\n",
        "    \"MAURICIO MARTINEZ RIEDE\",\n",
        "    \"DIEGO HERNANDEZ DELGADO\",\n",
        "    \"SOFIA ALBERT TASSIER\",\n",
        "    \"ANTONINO GARCIA OCEJO\",\n",
        "    \"JORGE EDGAR RODRIGUEZ ORTIZ LOYOLA\",\n",
        "    \"MARIANO FRANCO GOMEZ\",\n",
        "    \"ANDRES MIGUEL QUEVEDO\",\n",
        "    \"JOSE FRANCISCO GARDUÑO SUCHIL\",\n",
        "    \"CARLOS ALBERTO DELGADO ELIZONDO\",\n",
        "    \"NATALIA HERNANDEZ CORNEJO\",\n",
        "    \"MIGUEL ANGEL QUINTERO VILLEGAS\",\n",
        "    \"ALEXANDER PERELMAN ARCQ\",\n",
        "    \"GUILLERMO JORGE NARANJO MUEDANO\"\n",
        "])\n",
        "print(arr_y.dtype)\n",
        "print(arr_x.dtype)"
      ]
    },
    {
      "cell_type": "code",
      "execution_count": 14,
      "metadata": {},
      "outputs": [
        {
          "output_type": "stream",
          "name": "stdout",
          "text": [
            "\n",
            "Carrera Ciencia de Datos: GUILLERMO JORGE NARANJO MUEDANO (1) \n",
            "Carrera Ing, en Computación y Mat. Aplicadas\n",
            "|   Proyecto 2 <=1.50\n",
            "|   |   Lentes F: SOFIA ALBERT TASSIER (1) \n",
            "|   |   Lentes M: MARIANO FRANCO GOMEZ (1) \n",
            "|   Proyecto 2 >1.50\n",
            "|   |   Genero <=7.50: ANDRES MIGUEL QUEVEDO (1) \n",
            "|   |   Genero >7.50: FRANCISCO JAVIER ARAMBURU ALVAREZ (1) \n",
            "Carrera Ing, en Computación y Mecatrónica: DIEGO HERNANDEZ DELGADO (1) \n",
            "Carrera Ing. Industrial y Mecatrónica: SILVESTRE LEONARDO GONZALEZ ABREU (1) \n",
            "Carrera Ing. en Computación\n",
            "|   Genero <=7.50: CARLOS ALBERTO DELGADO ELIZONDO (1) \n",
            "|   Genero >7.50: BERNARDO ALTAMIRANO GARCIA (1) \n",
            "Carrera Ing. en Computación e Ing. Industrial: ANDREA DE ANDA KURI (1) \n",
            "Carrera Ing. en Computación y Economía: ALEXANDER PERELMAN ARCQ (1) \n",
            "Carrera Ing. en Computación y Mat. Aplicadas: NATALIA HERNANDEZ CORNEJO (1) \n",
            "Carrera Ing. en Computación y Mecatrónica: JORGE EDGAR RODRIGUEZ ORTIZ LOYOLA (1) \n",
            "Carrera Ing. en Negocios\n",
            "|   Genero <=7.00: ANTONINO GARCIA OCEJO (1) \n",
            "|   Genero >7.00\n",
            "|   |   Nombres No: EDUARDO PESQUEIRA ZORRILLA (1) \n",
            "|   |   Nombres Si: IAN ZAIDENWEBER DORENBAUM (1) \n",
            "Carrera Mat. Aplicadas\n",
            "|   Genero <=5.50: MIGUEL ANGEL QUINTERO VILLEGAS (1) \n",
            "|   Genero >5.50\n",
            "|   |   Lentes F: ZARA MARIA UBALDO GALICIA (1) \n",
            "|   |   Lentes M: JOSE FRANCISCO GARDUÑO SUCHIL (1) \n",
            "Carrera Mecatrónica\n",
            "|   Genero <=9.00\n",
            "|   |   Nombres No: MAURICIO MARTINEZ RIEDE (1) \n",
            "|   |   Nombres Si: LUIS ANDRES GOMEZ MARTINEZ (1) \n",
            "|   Genero >9.00\n",
            "|   |   Proyecto 2 <=1.50: MARIO GALVEZ LOPEZ (1) \n",
            "|   |   Proyecto 2 >1.50: LUIS FERNANDO MENDEZ CRUZ (1) \n",
            "\n",
            "/Users/bernardoaltamirano/anaconda3/lib/python3.7/site-packages/sklearn/utils/validation.py:563: FutureWarning: Beginning in version 0.22, arrays of bytes/strings will be converted to decimal numbers if dtype='numeric'. It is recommended that you convert the array to a float dtype before using it in scikit-learn, for example by using your_array = your_array.astype(np.float64).\n",
            "  FutureWarning)\n"
          ]
        }
      ],
      "source": [
        "clf = Id3Estimator()\n",
        "clf.fit(arr_x, arr_y, check_input=True)\n",
        "\n",
        "export_graphviz(clf.tree_, \"arbol-carreras.dot\", categorias)\n",
        "print(export_text(clf.tree_, categorias))"
      ]
    },
    {
      "source": [
        "Árbol con carrera binaria (compu o no)"
      ],
      "cell_type": "markdown",
      "metadata": {}
    },
    {
      "cell_type": "code",
      "execution_count": 17,
      "metadata": {},
      "outputs": [
        {
          "output_type": "stream",
          "name": "stdout",
          "text": [
            "<U34\n<U9\n"
          ]
        }
      ],
      "source": [
        "categorias2 = [\"Computación\",\"Semestre\",\"Genero\",\"Lentes\",\"Nombres\",\"Proyecto 2\"]\n",
        "\n",
        "arr_x2 = np.array([\n",
        "    [\"No\",\"No\",\"10\",\"M\",\"No\",\"2\",\"Damas\"],\n",
        "    [\"No\",\"No\",\"10\",\"M\",\"No\",\"1\",\"Damas\"],\n",
        "    [\"No\",\"No\",\"10\",\"F\",\"Si\",\"2\",\"Damas\"],\n",
        "    [\"Si\",\"Si\",\"9\",\"M\",\"No\",\"1\",\"Damas\"],\n",
        "    [\"Si\",\"Si\",\"9\",\"M\",\"Si\",\"2\",\"Damas\"],\n",
        "    [\"No\",\"No\",\"8\",\"M\",\"Si\",\"2\",\"Ajedrez\"],\n",
        "    [\"No\",\"No\",\"8\",\"M\",\"No\",\"2\",\"Damas\"],\n",
        "    [\"Si\",\"Si\",\"8\",\"F\",\"No\",\"1\",\"Damas\"],\n",
        "    [\"No\",\"No\",\"8\",\"M\",\"Si\",\"1\",\"Damas\"],\n",
        "    [\"No\",\"No\",\"8\",\"M\",\"No\",\"1\",\"Damas\"],\n",
        "    [\"No\",\"No\",\"8\",\"M\",\"No\",\"1\",\"Ajedrez\"],\n",
        "    [\"Si\",\"Si\",\"7\",\"M\",\"Si\",\"1\",\"Conecta 4\"],\n",
        "    [\"Si\",\"Si\",\"6\",\"F\",\"Si\",\"1\",\"Conecta 4\"],\n",
        "    [\"No\",\"No\",\"6\",\"M\",\"No\",\"1\",\"Damas\"],\n",
        "    [\"Si\",\"Si\",\"6\",\"M\",\"No\",\"2\",\"Conecta 4\"],\n",
        "    [\"Si\",\"Si\",\"6\",\"M\",\"Si\",\"1\",\"Conecta 4\"],\n",
        "    [\"Si\",\"Si\",\"6\",\"M\",\"Si\",\"2\",\"Conecta 4\"],\n",
        "    [\"No\",\"No\",\"6\",\"M\",\"Si\",\"2\",\"Conecta 4\"],\n",
        "    [\"Si\",\"Si\",\"6\",\"M\",\"No\",\"2\",\"Conecta 4\"],\n",
        "    [\"Si\",\"Si\",\"6\",\"F\",\"Si\",\"1\",\"Conecta 4\"],\n",
        "    [\"No\",\"No\",\"5\",\"M\",\"No\",\"2\",\"Damas\"],\n",
        "    [\"Si\",\"Si\",\"5\",\"M\",\"Si\",\"1\",\"Damas\"],\n",
        "    [\"No\",\"No\",\"4\",\"M\",\"No\",\"2\",\"Damas\"]\n",
        "])\n",
        "\n",
        "arr_y2 = np.array([\n",
        "    \"LUIS FERNANDO MENDEZ CRUZ\",\n",
        "    \"MARIO GALVEZ LOPEZ\",\n",
        "    \"ZARA MARIA UBALDO GALICIA\",\n",
        "    \"BERNARDO ALTAMIRANO GARCIA\",\n",
        "    \"FRANCISCO JAVIER ARAMBURU ALVAREZ\",\n",
        "    \"LUIS ANDRES GOMEZ MARTINEZ\",\n",
        "    \"SILVESTRE LEONARDO GONZALEZ ABREU\",\n",
        "    \"ANDREA DE ANDA KURI\",\n",
        "    \"IAN ZAIDENWEBER DORENBAUM\",\n",
        "    \"EDUARDO PESQUEIRA ZORRILLA\",\n",
        "    \"MAURICIO MARTINEZ RIEDE\",\n",
        "    \"DIEGO HERNANDEZ DELGADO\",\n",
        "    \"SOFIA ALBERT TASSIER\",\n",
        "    \"ANTONINO GARCIA OCEJO\",\n",
        "    \"JORGE EDGAR RODRIGUEZ ORTIZ LOYOLA\",\n",
        "    \"MARIANO FRANCO GOMEZ\",\n",
        "    \"ANDRES MIGUEL QUEVEDO\",\n",
        "    \"JOSE FRANCISCO GARDUÑO SUCHIL\",\n",
        "    \"CARLOS ALBERTO DELGADO ELIZONDO\",\n",
        "    \"NATALIA HERNANDEZ CORNEJO\",\n",
        "    \"MIGUEL ANGEL QUINTERO VILLEGAS\",\n",
        "    \"ALEXANDER PERELMAN ARCQ\",\n",
        "    \"GUILLERMO JORGE NARANJO MUEDANO\"\n",
        "])\n",
        "print(arr_y2.dtype)\n",
        "print(arr_x2.dtype)"
      ]
    },
    {
      "cell_type": "code",
      "execution_count": 18,
      "metadata": {},
      "outputs": [
        {
          "output_type": "stream",
          "name": "stderr",
          "text": [
            "/Users/bernardoaltamirano/anaconda3/lib/python3.7/site-packages/sklearn/utils/validation.py:563: FutureWarning: Beginning in version 0.22, arrays of bytes/strings will be converted to decimal numbers if dtype='numeric'. It is recommended that you convert the array to a float dtype before using it in scikit-learn, for example by using your_array = your_array.astype(np.float64).\n  FutureWarning)\n"
          ]
        },
        {
          "output_type": "error",
          "ename": "IndexError",
          "evalue": "list index out of range",
          "traceback": [
            "\u001b[0;31m---------------------------------------------------------------------------\u001b[0m",
            "\u001b[0;31mIndexError\u001b[0m                                Traceback (most recent call last)",
            "\u001b[0;32m<ipython-input-18-11a088842533>\u001b[0m in \u001b[0;36m<module>\u001b[0;34m\u001b[0m\n\u001b[1;32m      2\u001b[0m \u001b[0mclf\u001b[0m\u001b[0;34m.\u001b[0m\u001b[0mfit\u001b[0m\u001b[0;34m(\u001b[0m\u001b[0marr_x2\u001b[0m\u001b[0;34m,\u001b[0m \u001b[0marr_y2\u001b[0m\u001b[0;34m,\u001b[0m \u001b[0mcheck_input\u001b[0m\u001b[0;34m=\u001b[0m\u001b[0;32mTrue\u001b[0m\u001b[0;34m)\u001b[0m\u001b[0;34m\u001b[0m\u001b[0;34m\u001b[0m\u001b[0m\n\u001b[1;32m      3\u001b[0m \u001b[0;34m\u001b[0m\u001b[0m\n\u001b[0;32m----> 4\u001b[0;31m \u001b[0mexport_graphviz\u001b[0m\u001b[0;34m(\u001b[0m\u001b[0mclf\u001b[0m\u001b[0;34m.\u001b[0m\u001b[0mtree_\u001b[0m\u001b[0;34m,\u001b[0m \u001b[0;34m\"arbol-carreras-binario.dot\"\u001b[0m\u001b[0;34m,\u001b[0m \u001b[0mcategorias2\u001b[0m\u001b[0;34m)\u001b[0m\u001b[0;34m\u001b[0m\u001b[0;34m\u001b[0m\u001b[0m\n\u001b[0m\u001b[1;32m      5\u001b[0m \u001b[0mprint\u001b[0m\u001b[0;34m(\u001b[0m\u001b[0mexport_text\u001b[0m\u001b[0;34m(\u001b[0m\u001b[0mclf\u001b[0m\u001b[0;34m.\u001b[0m\u001b[0mtree_\u001b[0m\u001b[0;34m,\u001b[0m \u001b[0mcategorias2\u001b[0m\u001b[0;34m)\u001b[0m\u001b[0;34m)\u001b[0m\u001b[0;34m\u001b[0m\u001b[0;34m\u001b[0m\u001b[0m\n",
            "\u001b[0;32m~/anaconda3/lib/python3.7/site-packages/id3/export.py\u001b[0m in \u001b[0;36mexport_graphviz\u001b[0;34m(decision_tree, out_file, feature_names, extensive)\u001b[0m\n\u001b[1;32m    191\u001b[0m \u001b[0;34m\u001b[0m\u001b[0m\n\u001b[1;32m    192\u001b[0m     \u001b[0mout_file\u001b[0m\u001b[0;34m.\u001b[0m\u001b[0mwrite\u001b[0m\u001b[0;34m(\u001b[0m\u001b[0;34m'digraph ID3_Tree {\\n'\u001b[0m\u001b[0;34m)\u001b[0m\u001b[0;34m\u001b[0m\u001b[0;34m\u001b[0m\u001b[0m\n\u001b[0;32m--> 193\u001b[0;31m     \u001b[0m_recurse_tree\u001b[0m\u001b[0;34m(\u001b[0m\u001b[0mdecision_tree\u001b[0m\u001b[0;34m.\u001b[0m\u001b[0mroot\u001b[0m\u001b[0;34m)\u001b[0m\u001b[0;34m\u001b[0m\u001b[0;34m\u001b[0m\u001b[0m\n\u001b[0m\u001b[1;32m    194\u001b[0m \u001b[0;34m\u001b[0m\u001b[0m\n\u001b[1;32m    195\u001b[0m     \u001b[0;32mfor\u001b[0m \u001b[0mrank\u001b[0m \u001b[0;32min\u001b[0m \u001b[0msorted\u001b[0m\u001b[0;34m(\u001b[0m\u001b[0mranks\u001b[0m\u001b[0;34m)\u001b[0m\u001b[0;34m:\u001b[0m\u001b[0;34m\u001b[0m\u001b[0;34m\u001b[0m\u001b[0m\n",
            "\u001b[0;32m~/anaconda3/lib/python3.7/site-packages/id3/export.py\u001b[0m in \u001b[0;36m_recurse_tree\u001b[0;34m(node, node_id, edge, parent, depth)\u001b[0m\n\u001b[1;32m    128\u001b[0m \u001b[0;34m\u001b[0m\u001b[0m\n\u001b[1;32m    129\u001b[0m         \u001b[0mnode_ids\u001b[0m\u001b[0;34m.\u001b[0m\u001b[0mappend\u001b[0m\u001b[0;34m(\u001b[0m\u001b[0m_get_next_id\u001b[0m\u001b[0;34m(\u001b[0m\u001b[0;34m)\u001b[0m\u001b[0;34m)\u001b[0m\u001b[0;34m\u001b[0m\u001b[0;34m\u001b[0m\u001b[0m\n\u001b[0;32m--> 130\u001b[0;31m         \u001b[0mout_file\u001b[0m\u001b[0;34m.\u001b[0m\u001b[0mwrite\u001b[0m\u001b[0;34m(\u001b[0m\u001b[0m_node_to_dot\u001b[0m\u001b[0;34m(\u001b[0m\u001b[0mnode\u001b[0m\u001b[0;34m,\u001b[0m \u001b[0mnode_id\u001b[0m\u001b[0;34m,\u001b[0m \u001b[0mparent\u001b[0m\u001b[0;34m,\u001b[0m \u001b[0medge\u001b[0m\u001b[0;34m,\u001b[0m \u001b[0mdepth\u001b[0m\u001b[0;34m)\u001b[0m\u001b[0;34m)\u001b[0m\u001b[0;34m\u001b[0m\u001b[0;34m\u001b[0m\u001b[0m\n\u001b[0m\u001b[1;32m    131\u001b[0m         \u001b[0;32mfor\u001b[0m \u001b[0mchild\u001b[0m\u001b[0;34m,\u001b[0m \u001b[0medge\u001b[0m \u001b[0;32min\u001b[0m \u001b[0mnode\u001b[0m\u001b[0;34m.\u001b[0m\u001b[0mchildren\u001b[0m\u001b[0;34m:\u001b[0m\u001b[0;34m\u001b[0m\u001b[0;34m\u001b[0m\u001b[0m\n\u001b[1;32m    132\u001b[0m             \u001b[0m_recurse_tree\u001b[0m\u001b[0;34m(\u001b[0m\u001b[0mchild\u001b[0m\u001b[0;34m,\u001b[0m \u001b[0m_get_next_id\u001b[0m\u001b[0;34m(\u001b[0m\u001b[0;34m)\u001b[0m\u001b[0;34m,\u001b[0m \u001b[0medge\u001b[0m\u001b[0;34m,\u001b[0m \u001b[0mnode_id\u001b[0m\u001b[0;34m,\u001b[0m \u001b[0mdepth\u001b[0m\u001b[0;34m)\u001b[0m\u001b[0;34m\u001b[0m\u001b[0;34m\u001b[0m\u001b[0m\n",
            "\u001b[0;32m~/anaconda3/lib/python3.7/site-packages/id3/export.py\u001b[0m in \u001b[0;36m_node_to_dot\u001b[0;34m(node, n_id, parent, edge, depth)\u001b[0m\n\u001b[1;32m    148\u001b[0m         node_repr.append(('\\\"{}\\\" [shape=box, style=filled, label=\\\"{}\\\", '\n\u001b[1;32m    149\u001b[0m                           'weight={}]\\n')\n\u001b[0;32m--> 150\u001b[0;31m                          .format(n_id, _extract_node_info(node), depth))\n\u001b[0m\u001b[1;32m    151\u001b[0m         \u001b[0;32mif\u001b[0m \u001b[0mparent\u001b[0m \u001b[0;32mis\u001b[0m \u001b[0;32mnot\u001b[0m \u001b[0;32mNone\u001b[0m\u001b[0;34m:\u001b[0m\u001b[0;34m\u001b[0m\u001b[0;34m\u001b[0m\u001b[0m\n\u001b[1;32m    152\u001b[0m             node_repr.append(('{} -> {} [ label = \"{}\"];\\n')\n",
            "\u001b[0;32m~/anaconda3/lib/python3.7/site-packages/id3/export.py\u001b[0m in \u001b[0;36m_extract_node_info\u001b[0;34m(node)\u001b[0m\n\u001b[1;32m    163\u001b[0m \u001b[0;34m\u001b[0m\u001b[0m\n\u001b[1;32m    164\u001b[0m         \u001b[0;32mif\u001b[0m \u001b[0mfeature_names\u001b[0m \u001b[0;32mis\u001b[0m \u001b[0;32mnot\u001b[0m \u001b[0;32mNone\u001b[0m \u001b[0;32mand\u001b[0m \u001b[0mnode\u001b[0m\u001b[0;34m.\u001b[0m\u001b[0mis_feature\u001b[0m\u001b[0;34m:\u001b[0m\u001b[0;34m\u001b[0m\u001b[0;34m\u001b[0m\u001b[0m\n\u001b[0;32m--> 165\u001b[0;31m             \u001b[0mvalue\u001b[0m \u001b[0;34m=\u001b[0m \u001b[0mstr\u001b[0m\u001b[0;34m(\u001b[0m\u001b[0mfeature_names\u001b[0m\u001b[0;34m[\u001b[0m\u001b[0mnode\u001b[0m\u001b[0;34m.\u001b[0m\u001b[0mvalue\u001b[0m\u001b[0;34m]\u001b[0m\u001b[0;34m)\u001b[0m\u001b[0;34m\u001b[0m\u001b[0;34m\u001b[0m\u001b[0m\n\u001b[0m\u001b[1;32m    166\u001b[0m         \u001b[0;32melif\u001b[0m \u001b[0;32mnot\u001b[0m \u001b[0mnode\u001b[0m\u001b[0;34m.\u001b[0m\u001b[0mis_feature\u001b[0m\u001b[0;34m:\u001b[0m\u001b[0;34m\u001b[0m\u001b[0;34m\u001b[0m\u001b[0m\n\u001b[1;32m    167\u001b[0m             value = (decision_tree.y_encoder\n",
            "\u001b[0;31mIndexError\u001b[0m: list index out of range"
          ]
        }
      ],
      "source": [
        "clf = Id3Estimator()\n",
        "clf.fit(arr_x2, arr_y2, check_input=True)\n",
        "\n",
        "export_graphviz(clf.tree_, \"arbol-carreras-binario.dot\", categorias2)\n",
        "print(export_text(clf.tree_, categorias2))"
      ]
    },
    {
      "cell_type": "code",
      "execution_count": null,
      "metadata": {},
      "outputs": [],
      "source": []
    }
  ],
  "metadata": {
    "kernelspec": {
      "name": "python373jvsc74a57bd014ea72af40ee9339d6f8ad15aef067494a451ba105d6a0c8fbc9d65e956b1bca",
      "display_name": "Python 3.7.3 64-bit ('base': conda)"
    },
    "language_info": {
      "mimetype": "text/x-python",
      "nbconvert_exporter": "python",
      "name": "python",
      "file_extension": ".py",
      "version": "3.7.3",
      "pygments_lexer": "ipython2",
      "codemirror_mode": {
        "version": 2,
        "name": "ipython"
      }
    }
  }
}