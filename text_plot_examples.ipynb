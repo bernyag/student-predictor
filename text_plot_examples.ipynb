{
  "nbformat_minor": 0,
  "nbformat": 4,
  "cells": [
    {
      "execution_count": null,
      "cell_type": "code",
      "source": [
        "%matplotlib inline"
      ],
      "outputs": [],
      "metadata": {
        "collapsed": false
      }
    },
    {
      "cell_type": "code",
      "execution_count": null,
      "metadata": {},
      "outputs": [],
      "source": [
        "#pip install decision-tree-id3"
      ]
    },
    {
      "source": [
        "\n",
        "# Text export from Estimator\n",
        "\n",
        "\n",
        "An example text export of :class:`id3.id3.Id3Estimator` with\n",
        ":file:`id3.export.export_text`\n",
        "\n"
      ],
      "cell_type": "markdown",
      "metadata": {}
    },
    {
      "execution_count": 2,
      "cell_type": "code",
      "source": [
        "from id3 import Id3Estimator, export_text\n",
        "import numpy as np\n",
        "\n",
        "feature_names = [\"age\",\n",
        "                 \"gender\",\n",
        "                 \"sector\",\n",
        "                 \"degree\"]\n",
        "\n",
        "X = np.array([[45, \"male\", \"private\", \"m\"],\n",
        "              [50, \"female\", \"private\", \"m\"],\n",
        "              [61, \"other\", \"public\", \"b\"],\n",
        "              [40, \"male\", \"private\", \"none\"],\n",
        "              [34, \"female\", \"private\", \"none\"],\n",
        "              [33, \"male\", \"public\", \"none\"],\n",
        "              [43, \"other\", \"private\", \"m\"],\n",
        "              [35, \"male\", \"private\", \"m\"],\n",
        "              [34, \"female\", \"private\", \"m\"],\n",
        "              [35, \"male\", \"public\", \"m\"],\n",
        "              [34, \"other\", \"public\", \"m\"],\n",
        "              [34, \"other\", \"public\", \"b\"],\n",
        "              [34, \"female\", \"public\", \"b\"],\n",
        "              [34, \"male\", \"public\", \"b\"],\n",
        "              [34, \"female\", \"private\", \"b\"],\n",
        "              [34, \"male\", \"private\", \"b\"],\n",
        "              [34, \"other\", \"private\", \"b\"]])\n",
        "\n",
        "y = np.array([\"(30k,38k)\",\n",
        "              \"(30k,38k)\",\n",
        "              \"(30k,38k)\",\n",
        "              \"(13k,15k)\",\n",
        "              \"(13k,15k)\",\n",
        "              \"(13k,15k)\",\n",
        "              \"(23k,30k)\",\n",
        "              \"(23k,30k)\",\n",
        "              \"(23k,30k)\",\n",
        "              \"(15k,23k)\",\n",
        "              \"(15k,23k)\",\n",
        "              \"(15k,23k)\",\n",
        "              \"(15k,23k)\",\n",
        "              \"(15k,23k)\",\n",
        "              \"(23k,30k)\",\n",
        "              \"(23k,30k)\",\n",
        "              \"(23k,30k)\"])\n",
        "\n",
        "clf = Id3Estimator()\n",
        "clf.fit(X, y, check_input=True)\n",
        "\n",
        "print(export_text(clf.tree_, feature_names))"
      ],
      "outputs": [
        {
          "output_type": "stream",
          "name": "stdout",
          "text": [
            "\n",
            "degree b\n",
            "|   sector private: (23k,30k) (3) \n",
            "|   sector public\n",
            "|   |   age <=47.50: (15k,23k) (3) \n",
            "|   |   age >47.50: (30k,38k) (1) \n",
            "degree m\n",
            "|   age <=44.00\n",
            "|   |   sector private: (23k,30k) (3) \n",
            "|   |   sector public: (15k,23k) (2) \n",
            "|   age >44.00: (30k,38k) (2) \n",
            "degree none: (13k,15k) (3) \n",
            "\n",
            "/Users/bernardoaltamirano/anaconda3/lib/python3.7/site-packages/sklearn/utils/validation.py:563: FutureWarning: Beginning in version 0.22, arrays of bytes/strings will be converted to decimal numbers if dtype='numeric'. It is recommended that you convert the array to a float dtype before using it in scikit-learn, for example by using your_array = your_array.astype(np.float64).\n",
            "  FutureWarning)\n"
          ]
        }
      ],
      "metadata": {
        "collapsed": false
      }
    },
    {
      "cell_type": "code",
      "execution_count": null,
      "metadata": {},
      "outputs": [],
      "source": []
    }
  ],
  "metadata": {
    "kernelspec": {
      "name": "python373jvsc74a57bd014ea72af40ee9339d6f8ad15aef067494a451ba105d6a0c8fbc9d65e956b1bca",
      "display_name": "Python 3.7.3 64-bit ('base': conda)"
    },
    "language_info": {
      "mimetype": "text/x-python",
      "nbconvert_exporter": "python",
      "name": "python",
      "file_extension": ".py",
      "version": "3.7.3",
      "pygments_lexer": "ipython2",
      "codemirror_mode": {
        "version": 2,
        "name": "ipython"
      }
    }
  }
}